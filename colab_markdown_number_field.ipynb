{
  "nbformat": 4,
  "nbformat_minor": 0,
  "metadata": {
    "colab": {
      "name": "Untitled0.ipynb",
      "provenance": [],
      "authorship_tag": "ABX9TyNCAnLBMc9TORHWlia57G8E"
    },
    "kernelspec": {
      "name": "python3",
      "display_name": "Python 3"
    },
    "language_info": {
      "name": "python"
    }
  },
  "cells": [
    {
      "cell_type": "markdown",
      "metadata": {
        "id": "ueays2U5oJmK"
      },
      "source": [
        "Reference : [https://colab.research.google.com/notebooks/forms.ipynb](https://colab.research.google.com/notebooks/forms.ipynb)"
      ]
    },
    {
      "cell_type": "code",
      "metadata": {
        "id": "6Orx8zOfnnxC"
      },
      "source": [
        "#@markdown Hi this is an explanation place. You can explain what the adjust bar is.\n",
        "quiet = 21 #@param {type:\"slider\", min: 0, max:60, step:1}"
      ],
      "execution_count": null,
      "outputs": []
    }
  ]
}