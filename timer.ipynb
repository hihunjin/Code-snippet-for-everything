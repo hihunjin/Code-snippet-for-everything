{
  "nbformat": 4,
  "nbformat_minor": 0,
  "metadata": {
    "colab": {
      "name": "timer.ipynb",
      "provenance": [],
      "authorship_tag": "ABX9TyNB2rtrpFziKD4s8Xz5o6S1",
      "include_colab_link": true
    },
    "kernelspec": {
      "name": "python3",
      "display_name": "Python 3"
    },
    "language_info": {
      "name": "python"
    }
  },
  "cells": [
    {
      "cell_type": "markdown",
      "metadata": {
        "id": "view-in-github",
        "colab_type": "text"
      },
      "source": [
        "<a href=\"https://colab.research.google.com/github/hihunjin/Code-snippet-for-everything/blob/main/timer.ipynb\" target=\"_parent\"><img src=\"https://colab.research.google.com/assets/colab-badge.svg\" alt=\"Open In Colab\"/></a>"
      ]
    },
    {
      "cell_type": "code",
      "execution_count": 1,
      "metadata": {
        "id": "f_WlTHjcjakb"
      },
      "outputs": [],
      "source": [
        "from time import time\n",
        "\n",
        "class Timer():\n",
        "    def __init__(self, message):\n",
        "        self.message = message\n",
        "    def __enter__(self):\n",
        "        self.start = time()\n",
        "        return None  # could return anything, to be used like this: with Timer(\"Message\") as value:\n",
        "    def __exit__(self, type, value, traceback):\n",
        "        elapsed_time = (time() - self.start) * 1000\n",
        "        print(self.message.format(elapsed_time))"
      ]
    },
    {
      "cell_type": "code",
      "source": [
        "with Timer(\"Elapsed time to compute some prime numbers: {}ms\"):\n",
        "    primes = []\n",
        "    for x in range(2, 500):\n",
        "        if not any(x % p == 0 for p in primes):\n",
        "            primes.append(x)\n",
        "    print(\"Primes: {}\".format(primes))"
      ],
      "metadata": {
        "id": "mvtK-feKjb7o",
        "outputId": "c43651a0-0ddb-4a6f-a083-2081f91a3683",
        "colab": {
          "base_uri": "https://localhost:8080/"
        }
      },
      "execution_count": 2,
      "outputs": [
        {
          "output_type": "stream",
          "name": "stdout",
          "text": [
            "Primes: [2, 3, 5, 7, 11, 13, 17, 19, 23, 29, 31, 37, 41, 43, 47, 53, 59, 61, 67, 71, 73, 79, 83, 89, 97, 101, 103, 107, 109, 113, 127, 131, 137, 139, 149, 151, 157, 163, 167, 173, 179, 181, 191, 193, 197, 199, 211, 223, 227, 229, 233, 239, 241, 251, 257, 263, 269, 271, 277, 281, 283, 293, 307, 311, 313, 317, 331, 337, 347, 349, 353, 359, 367, 373, 379, 383, 389, 397, 401, 409, 419, 421, 431, 433, 439, 443, 449, 457, 461, 463, 467, 479, 487, 491, 499]\n",
            "Elapsed time to compute some prime numbers: 4.057168960571289ms\n"
          ]
        }
      ]
    }
  ]
}