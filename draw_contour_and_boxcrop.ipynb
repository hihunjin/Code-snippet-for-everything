{
  "nbformat": 4,
  "nbformat_minor": 0,
  "metadata": {
    "colab": {
      "name": "draw_contour.ipynb",
      "provenance": [],
      "authorship_tag": "ABX9TyMGdT1PNYNe3K8y8ipR1Rvj",
      "include_colab_link": true
    },
    "kernelspec": {
      "name": "python3",
      "display_name": "Python 3"
    },
    "language_info": {
      "name": "python"
    }
  },
  "cells": [
    {
      "cell_type": "markdown",
      "metadata": {
        "id": "view-in-github",
        "colab_type": "text"
      },
      "source": [
        "<a href=\"https://colab.research.google.com/github/hihunjin/Code-snippet-for-everything/blob/main/draw_contour_and_boxcrop.ipynb\" target=\"_parent\"><img src=\"https://colab.research.google.com/assets/colab-badge.svg\" alt=\"Open In Colab\"/></a>"
      ]
    },
    {
      "cell_type": "code",
      "source": [
        "import numpy as np\n",
        "from PIL import Image\n",
        "import cv2"
      ],
      "metadata": {
        "id": "p_C-PRBxy7M7"
      },
      "execution_count": 1,
      "outputs": []
    },
    {
      "cell_type": "code",
      "execution_count": 2,
      "metadata": {
        "id": "aJYE8YJ3y42n"
      },
      "outputs": [],
      "source": [
        "e = np.zeros(shape=(150,150), dtype='uint8')\n",
        "e[2:10, 3:50] = 150\n",
        "e[2:10, 100:110] = 150"
      ]
    },
    {
      "cell_type": "code",
      "source": [
        "contours, _ = cv2.findContours(\n",
        "    e,\n",
        "    cv2.RETR_EXTERNAL,\n",
        "    cv2.CHAIN_APPROX_SIMPLE\n",
        ")"
      ],
      "metadata": {
        "id": "PxFUOCXgzGcn"
      },
      "execution_count": 3,
      "outputs": []
    },
    {
      "cell_type": "code",
      "source": [
        "print(_)\n",
        "print()\n",
        "print(len(contours))\n",
        "print()\n",
        "print(contours)"
      ],
      "metadata": {
        "colab": {
          "base_uri": "https://localhost:8080/"
        },
        "id": "4_znL0qczbhC",
        "outputId": "82584ad2-4e55-42b7-9b9a-1cfd0acaf8fd"
      },
      "execution_count": 4,
      "outputs": [
        {
          "output_type": "stream",
          "name": "stdout",
          "text": [
            "[[[ 1 -1 -1 -1]\n",
            "  [-1  0 -1 -1]]]\n",
            "\n",
            "2\n",
            "\n",
            "[array([[[100,   2]],\n",
            "\n",
            "       [[100,   9]],\n",
            "\n",
            "       [[109,   9]],\n",
            "\n",
            "       [[109,   2]]], dtype=int32), array([[[ 3,  2]],\n",
            "\n",
            "       [[ 3,  9]],\n",
            "\n",
            "       [[49,  9]],\n",
            "\n",
            "       [[49,  2]]], dtype=int32)]\n"
          ]
        }
      ]
    },
    {
      "cell_type": "code",
      "source": [
        "image_with_contour = cv2.drawContours(e,\n",
        "    contours,\n",
        "    contourIdx=-1,\n",
        "    color=[255, 0, 0],\n",
        "    maxLevel=2\n",
        ")\n",
        "# \n",
        "# contourIdx\n",
        "# Parameter indicating a contour to draw. If it is negative, all the contours are drawn.\n",
        "# \n",
        "# maxLevel \n",
        "# Maximal level for drawn contours.\n",
        "# If it is 0, only the specified contour is drawn.\n",
        "# If it is 1, the function draws the contour(s) and all the nested contours.\n",
        "# If it is 2, the function draws the contours, all the nested contours, all the nested-to-nested contours, and so on. This\n",
        "# parameter is only taken into account when there is hierarchy available."
      ],
      "metadata": {
        "id": "NP9yhe3X20KK"
      },
      "execution_count": 5,
      "outputs": []
    },
    {
      "cell_type": "code",
      "source": [
        "image_with_contour = np.clip(image_with_contour, 0, 256).astype('uint8')\n",
        "image_with_contour = Image.fromarray(image_with_contour)\n",
        "display(image_with_contour)"
      ],
      "metadata": {
        "colab": {
          "base_uri": "https://localhost:8080/",
          "height": 167
        },
        "id": "uGSwxH4p24zq",
        "outputId": "1320f991-04db-412c-f2a6-27124233d6f4"
      },
      "execution_count": 6,
      "outputs": [
        {
          "output_type": "display_data",
          "data": {
            "image/png": "[encoded data removed]",
            "text/plain": [
              "<PIL.Image.Image image mode=L size=150x150 at 0x7F8F4B560A50>"
            ]
          },
          "metadata": {}
        }
      ]
    },
    {
      "cell_type": "markdown",
      "source": [
        "# Crop image with box\n",
        "\n",
        "* [PIL.Image.Image.crop](https://pillow.readthedocs.io/en/stable/reference/Image.html#PIL.Image.Image.crop)"
      ],
      "metadata": {
        "id": "sAIsId5iJwr2"
      }
    },
    {
      "cell_type": "code",
      "source": [
        "import os\n",
        "\n",
        "for i in range(len(contours)):\n",
        "    contour = contours[i]\n",
        "    bottom_left = contour.min(axis=0)[0]\n",
        "    top_right = contour.max(axis=0)[0]\n",
        "    cropped_img = Image.fromarray(e).crop(\n",
        "        (bottom_left[0], bottom_left[1], top_right[0], top_right[1])\n",
        "    )\n",
        "    w, h = cropped_img.size\n",
        "    if w * h < 4:\n",
        "        continue\n",
        "    display(cropped_img)"
      ],
      "metadata": {
        "id": "Bq1Nsw3EJv1g",
        "outputId": "816febcf-7227-4363-8557-165acee85324",
        "colab": {
          "base_uri": "https://localhost:8080/",
          "height": 51
        }
      },
      "execution_count": 7,
      "outputs": [
        {
          "output_type": "display_data",
          "data": {
            "image/png": "[encoded data removed]",
            "text/plain": [
              "<PIL.Image.Image image mode=L size=9x7 at 0x7F8F4B4E35D0>"
            ]
          },
          "metadata": {}
        },
        {
          "output_type": "display_data",
          "data": {
            "image/png": "[encoded data removed]",
            "text/plain": [
              "<PIL.Image.Image image mode=L size=46x7 at 0x7F8F4B4DC210>"
            ]
          },
          "metadata": {}
        }
      ]
    }
  ]
}