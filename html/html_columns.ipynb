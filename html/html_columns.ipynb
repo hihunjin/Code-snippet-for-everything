{
  "nbformat": 4,
  "nbformat_minor": 0,
  "metadata": {
    "colab": {
      "name": "html_columns.ipynb",
      "provenance": [],
      "authorship_tag": "ABX9TyMzw6VuYZeZ3FY9EBR/zq9s",
      "include_colab_link": true
    },
    "kernelspec": {
      "name": "python3",
      "display_name": "Python 3"
    },
    "language_info": {
      "name": "python"
    }
  },
  "cells": [
    {
      "cell_type": "markdown",
      "metadata": {
        "id": "view-in-github",
        "colab_type": "text"
      },
      "source": [
        "<a href=\"https://colab.research.google.com/github/hihunjin/Code-snippet-for-everything/blob/main/html_columns.ipynb\" target=\"_parent\"><img src=\"https://colab.research.google.com/assets/colab-badge.svg\" alt=\"Open In Colab\"/></a>"
      ]
    },
    {
      "cell_type": "code",
      "metadata": {
        "id": "2ozAGhK-v09d"
      },
      "source": [
        "text = \"\"\"<table border=\"0\">\n",
        " <tr>\n",
        "    <td><b style=\"font-size:30px\">Title</b></td>\n",
        "    <td><b style=\"font-size:30px\">Title 2</b></td>\n",
        " </tr>\n",
        " <tr>\n",
        "    <td>Lorem ipsum ...</td>\n",
        "    <td>Lorem ipsum ...</td>\n",
        " </tr>\n",
        "</table>\n",
        "\"\"\""
      ],
      "execution_count": 1,
      "outputs": []
    },
    {
      "cell_type": "code",
      "metadata": {
        "colab": {
          "base_uri": "https://localhost:8080/",
          "height": 79
        },
        "id": "FbnEVJ9Dv3Ze",
        "outputId": "4460c971-98ba-4ca4-cd42-22dc2f4f5522"
      },
      "source": [
        "from IPython.core.display import HTML\n",
        "HTML(text)"
      ],
      "execution_count": 2,
      "outputs": [
        {
          "output_type": "execute_result",
          "data": {
            "text/html": [
              "<table border=\"0\">\n",
              " <tr>\n",
              "    <td><b style=\"font-size:30px\">Title</b></td>\n",
              "    <td><b style=\"font-size:30px\">Title 2</b></td>\n",
              " </tr>\n",
              " <tr>\n",
              "    <td>Lorem ipsum ...</td>\n",
              "    <td>Lorem ipsum ...</td>\n",
              " </tr>\n",
              "</table>\n"
            ],
            "text/plain": [
              "<IPython.core.display.HTML object>"
            ]
          },
          "metadata": {},
          "execution_count": 2
        }
      ]
    }
  ]
}
