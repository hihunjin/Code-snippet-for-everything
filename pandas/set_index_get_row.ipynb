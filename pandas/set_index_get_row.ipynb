{
  "nbformat": 4,
  "nbformat_minor": 0,
  "metadata": {
    "colab": {
      "name": "Untitled2.ipynb",
      "provenance": [],
      "authorship_tag": "ABX9TyNOyhz9/iXab/R61XtPxG8D",
      "include_colab_link": true
    },
    "kernelspec": {
      "name": "python3",
      "display_name": "Python 3"
    },
    "language_info": {
      "name": "python"
    }
  },
  "cells": [
    {
      "cell_type": "markdown",
      "metadata": {
        "id": "view-in-github",
        "colab_type": "text"
      },
      "source": [
        "<a href=\"https://colab.research.google.com/github/hihunjin/Code-snippet-for-everything/blob/main/pandas/set_index_get_row.ipynb\" target=\"_parent\"><img src=\"https://colab.research.google.com/assets/colab-badge.svg\" alt=\"Open In Colab\"/></a>"
      ]
    },
    {
      "cell_type": "code",
      "execution_count": 1,
      "metadata": {
        "id": "zgCG9ftyNv03"
      },
      "outputs": [],
      "source": [
        "%%capture\n",
        "!wget https://people.sc.fsu.edu/~jburkardt/data/csv/biostats.csv -O biostats.csv"
      ]
    },
    {
      "cell_type": "code",
      "source": [
        "import pandas as pd\n",
        "df = pd.read_csv('biostats.csv')"
      ],
      "metadata": {
        "id": "FVL8ouiCNwsX"
      },
      "execution_count": 2,
      "outputs": []
    },
    {
      "cell_type": "code",
      "source": [
        "df = df.set_index(\"Name\")"
      ],
      "metadata": {
        "id": "U6DdJzj9NyVY"
      },
      "execution_count": 3,
      "outputs": []
    },
    {
      "cell_type": "code",
      "source": [
        "df"
      ],
      "metadata": {
        "colab": {
          "base_uri": "https://localhost:8080/",
          "height": 645
        },
        "id": "rLFQZpCkNzcE",
        "outputId": "d5bd8bcd-b971-4f9a-ecfd-d9e50e924498"
      },
      "execution_count": 4,
      "outputs": [
        {
          "output_type": "execute_result",
          "data": {
            "text/html": [
              "<div>\n",
              "<style scoped>\n",
              "    .dataframe tbody tr th:only-of-type {\n",
              "        vertical-align: middle;\n",
              "    }\n",
              "\n",
              "    .dataframe tbody tr th {\n",
              "        vertical-align: top;\n",
              "    }\n",
              "\n",
              "    .dataframe thead th {\n",
              "        text-align: right;\n",
              "    }\n",
              "</style>\n",
              "<table border=\"1\" class=\"dataframe\">\n",
              "  <thead>\n",
              "    <tr style=\"text-align: right;\">\n",
              "      <th></th>\n",
              "      <th>\"Sex\"</th>\n",
              "      <th>\"Age\"</th>\n",
              "      <th>\"Height (in)\"</th>\n",
              "      <th>\"Weight (lbs)\"</th>\n",
              "    </tr>\n",
              "    <tr>\n",
              "      <th>Name</th>\n",
              "      <th></th>\n",
              "      <th></th>\n",
              "      <th></th>\n",
              "      <th></th>\n",
              "    </tr>\n",
              "  </thead>\n",
              "  <tbody>\n",
              "    <tr>\n",
              "      <th>Alex</th>\n",
              "      <td>\"M\"</td>\n",
              "      <td>41</td>\n",
              "      <td>74</td>\n",
              "      <td>170</td>\n",
              "    </tr>\n",
              "    <tr>\n",
              "      <th>Bert</th>\n",
              "      <td>\"M\"</td>\n",
              "      <td>42</td>\n",
              "      <td>68</td>\n",
              "      <td>166</td>\n",
              "    </tr>\n",
              "    <tr>\n",
              "      <th>Carl</th>\n",
              "      <td>\"M\"</td>\n",
              "      <td>32</td>\n",
              "      <td>70</td>\n",
              "      <td>155</td>\n",
              "    </tr>\n",
              "    <tr>\n",
              "      <th>Dave</th>\n",
              "      <td>\"M\"</td>\n",
              "      <td>39</td>\n",
              "      <td>72</td>\n",
              "      <td>167</td>\n",
              "    </tr>\n",
              "    <tr>\n",
              "      <th>Elly</th>\n",
              "      <td>\"F\"</td>\n",
              "      <td>30</td>\n",
              "      <td>66</td>\n",
              "      <td>124</td>\n",
              "    </tr>\n",
              "    <tr>\n",
              "      <th>Fran</th>\n",
              "      <td>\"F\"</td>\n",
              "      <td>33</td>\n",
              "      <td>66</td>\n",
              "      <td>115</td>\n",
              "    </tr>\n",
              "    <tr>\n",
              "      <th>Gwen</th>\n",
              "      <td>\"F\"</td>\n",
              "      <td>26</td>\n",
              "      <td>64</td>\n",
              "      <td>121</td>\n",
              "    </tr>\n",
              "    <tr>\n",
              "      <th>Hank</th>\n",
              "      <td>\"M\"</td>\n",
              "      <td>30</td>\n",
              "      <td>71</td>\n",
              "      <td>158</td>\n",
              "    </tr>\n",
              "    <tr>\n",
              "      <th>Ivan</th>\n",
              "      <td>\"M\"</td>\n",
              "      <td>53</td>\n",
              "      <td>72</td>\n",
              "      <td>175</td>\n",
              "    </tr>\n",
              "    <tr>\n",
              "      <th>Jake</th>\n",
              "      <td>\"M\"</td>\n",
              "      <td>32</td>\n",
              "      <td>69</td>\n",
              "      <td>143</td>\n",
              "    </tr>\n",
              "    <tr>\n",
              "      <th>Kate</th>\n",
              "      <td>\"F\"</td>\n",
              "      <td>47</td>\n",
              "      <td>69</td>\n",
              "      <td>139</td>\n",
              "    </tr>\n",
              "    <tr>\n",
              "      <th>Luke</th>\n",
              "      <td>\"M\"</td>\n",
              "      <td>34</td>\n",
              "      <td>72</td>\n",
              "      <td>163</td>\n",
              "    </tr>\n",
              "    <tr>\n",
              "      <th>Myra</th>\n",
              "      <td>\"F\"</td>\n",
              "      <td>23</td>\n",
              "      <td>62</td>\n",
              "      <td>98</td>\n",
              "    </tr>\n",
              "    <tr>\n",
              "      <th>Neil</th>\n",
              "      <td>\"M\"</td>\n",
              "      <td>36</td>\n",
              "      <td>75</td>\n",
              "      <td>160</td>\n",
              "    </tr>\n",
              "    <tr>\n",
              "      <th>Omar</th>\n",
              "      <td>\"M\"</td>\n",
              "      <td>38</td>\n",
              "      <td>70</td>\n",
              "      <td>145</td>\n",
              "    </tr>\n",
              "    <tr>\n",
              "      <th>Page</th>\n",
              "      <td>\"F\"</td>\n",
              "      <td>31</td>\n",
              "      <td>67</td>\n",
              "      <td>135</td>\n",
              "    </tr>\n",
              "    <tr>\n",
              "      <th>Quin</th>\n",
              "      <td>\"M\"</td>\n",
              "      <td>29</td>\n",
              "      <td>71</td>\n",
              "      <td>176</td>\n",
              "    </tr>\n",
              "    <tr>\n",
              "      <th>Ruth</th>\n",
              "      <td>\"F\"</td>\n",
              "      <td>28</td>\n",
              "      <td>65</td>\n",
              "      <td>131</td>\n",
              "    </tr>\n",
              "  </tbody>\n",
              "</table>\n",
              "</div>"
            ],
            "text/plain": [
              "           \"Sex\"   \"Age\"   \"Height (in)\"   \"Weight (lbs)\"\n",
              "Name                                                     \n",
              "Alex         \"M\"      41              74              170\n",
              "Bert         \"M\"      42              68              166\n",
              "Carl         \"M\"      32              70              155\n",
              "Dave         \"M\"      39              72              167\n",
              "Elly         \"F\"      30              66              124\n",
              "Fran         \"F\"      33              66              115\n",
              "Gwen         \"F\"      26              64              121\n",
              "Hank         \"M\"      30              71              158\n",
              "Ivan         \"M\"      53              72              175\n",
              "Jake         \"M\"      32              69              143\n",
              "Kate         \"F\"      47              69              139\n",
              "Luke         \"M\"      34              72              163\n",
              "Myra         \"F\"      23              62               98\n",
              "Neil         \"M\"      36              75              160\n",
              "Omar         \"M\"      38              70              145\n",
              "Page         \"F\"      31              67              135\n",
              "Quin         \"M\"      29              71              176\n",
              "Ruth         \"F\"      28              65              131"
            ]
          },
          "metadata": {},
          "execution_count": 4
        }
      ]
    },
    {
      "cell_type": "code",
      "source": [
        "df.loc['Bert'].to_dict()"
      ],
      "metadata": {
        "colab": {
          "base_uri": "https://localhost:8080/"
        },
        "id": "9htD_K5AN0Ek",
        "outputId": "8d2106f0-815a-438d-9d46-b52ce6ea6af5"
      },
      "execution_count": 5,
      "outputs": [
        {
          "output_type": "execute_result",
          "data": {
            "text/plain": [
              "{'     \"Sex\"': '       \"M\"',\n",
              " ' \"Age\"': 42,\n",
              " ' \"Height (in)\"': 68,\n",
              " ' \"Weight (lbs)\"': 166}"
            ]
          },
          "metadata": {},
          "execution_count": 5
        }
      ]
    },
    {
      "cell_type": "code",
      "source": [
        "df.index"
      ],
      "metadata": {
        "colab": {
          "base_uri": "https://localhost:8080/"
        },
        "id": "D0enlvapN1FQ",
        "outputId": "15615c9a-6822-42c3-aca8-2df46fdeb695"
      },
      "execution_count": 6,
      "outputs": [
        {
          "output_type": "execute_result",
          "data": {
            "text/plain": [
              "Index(['Alex', 'Bert', 'Carl', 'Dave', 'Elly', 'Fran', 'Gwen', 'Hank', 'Ivan',\n",
              "       'Jake', 'Kate', 'Luke', 'Myra', 'Neil', 'Omar', 'Page', 'Quin', 'Ruth'],\n",
              "      dtype='object', name='Name')"
            ]
          },
          "metadata": {},
          "execution_count": 6
        }
      ]
    }
  ]
}