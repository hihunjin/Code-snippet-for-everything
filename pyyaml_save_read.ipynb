{
  "nbformat": 4,
  "nbformat_minor": 0,
  "metadata": {
    "colab": {
      "name": "pyyaml_save_read.ipynb",
      "provenance": [],
      "include_colab_link": true
    },
    "kernelspec": {
      "name": "python3",
      "display_name": "Python 3"
    },
    "language_info": {
      "name": "python"
    }
  },
  "cells": [
    {
      "cell_type": "markdown",
      "metadata": {
        "id": "view-in-github",
        "colab_type": "text"
      },
      "source": [
        "<a href=\"https://colab.research.google.com/github/hihunjin/Code-snippet-for-everything/blob/main/pyyaml_save_read.ipynb\" target=\"_parent\"><img src=\"https://colab.research.google.com/assets/colab-badge.svg\" alt=\"Open In Colab\"/></a>"
      ]
    },
    {
      "cell_type": "code",
      "metadata": {
        "id": "dWv4lV0W0RiN"
      },
      "source": [
        "import yaml   # import pyyaml"
      ],
      "execution_count": 1,
      "outputs": []
    },
    {
      "cell_type": "code",
      "metadata": {
        "id": "FDYe9acc0TMI"
      },
      "source": [
        "d = {\"lr\": 0.001, \"lr_decay\": 0.98, \"lr_min\": 1.0e-07, \"lr_scheduler\": \"multi\"}"
      ],
      "execution_count": 2,
      "outputs": []
    },
    {
      "cell_type": "markdown",
      "metadata": {
        "id": "niUu5wpQ0XkD"
      },
      "source": [
        "# Dump = Save"
      ]
    },
    {
      "cell_type": "code",
      "metadata": {
        "id": "bIeq13IG0WUq"
      },
      "source": [
        "with open('new.yml', 'w') as f:\n",
        "    yaml.dump(d, f, default_flow_style=False)"
      ],
      "execution_count": 3,
      "outputs": []
    },
    {
      "cell_type": "code",
      "metadata": {
        "colab": {
          "base_uri": "https://localhost:8080/"
        },
        "id": "GvcZ07TR0dwT",
        "outputId": "ce373266-d748-42cf-d41c-fa2b8de2dcc7"
      },
      "source": [
        "!cat new.yml"
      ],
      "execution_count": 4,
      "outputs": [
        {
          "output_type": "stream",
          "name": "stdout",
          "text": [
            "lr: 0.001\n",
            "lr_decay: 0.98\n",
            "lr_min: 1.0e-07\n",
            "lr_scheduler: multi\n"
          ]
        }
      ]
    },
    {
      "cell_type": "code",
      "metadata": {
        "id": "uBMz-NPe0kr7"
      },
      "source": [
        "with open('new_2.yml', 'w') as f:\n",
        "    yaml.dump(d, f)"
      ],
      "execution_count": 5,
      "outputs": []
    },
    {
      "cell_type": "code",
      "metadata": {
        "colab": {
          "base_uri": "https://localhost:8080/"
        },
        "id": "cHWRgCYi0o8q",
        "outputId": "a913a60c-5b69-4bb1-bcf4-4190210794b2"
      },
      "source": [
        "!cat new_2.yml"
      ],
      "execution_count": 6,
      "outputs": [
        {
          "output_type": "stream",
          "name": "stdout",
          "text": [
            "{lr: 0.001, lr_decay: 0.98, lr_min: 1.0e-07, lr_scheduler: multi}\n"
          ]
        }
      ]
    },
    {
      "cell_type": "markdown",
      "metadata": {
        "id": "PepNcDXU0sn1"
      },
      "source": [
        "# Load"
      ]
    },
    {
      "cell_type": "code",
      "metadata": {
        "colab": {
          "base_uri": "https://localhost:8080/"
        },
        "id": "IHCWCGGo0p-v",
        "outputId": "222fe29f-2a27-4ba3-fc65-a0df09a60d18"
      },
      "source": [
        "with open('new.yml') as f:\n",
        "    info = yaml.load(f)\n",
        "    print(info)"
      ],
      "execution_count": 7,
      "outputs": [
        {
          "output_type": "stream",
          "name": "stdout",
          "text": [
            "{'lr': 0.001, 'lr_decay': 0.98, 'lr_min': 1e-07, 'lr_scheduler': 'multi'}\n"
          ]
        }
      ]
    },
    {
      "cell_type": "markdown",
      "metadata": {
        "id": "C9rN7DAaNeE1"
      },
      "source": [
        "# download sample yaml"
      ]
    },
    {
      "cell_type": "code",
      "metadata": {
        "colab": {
          "base_uri": "https://localhost:8080/"
        },
        "id": "9yI2awoBNcmG",
        "outputId": "61346ff8-b019-4b3d-8034-7d74cba4623d"
      },
      "source": [
        "!wget https://filesamples.com/samples/code/yaml/verify_apache.yaml -O example.yaml"
      ],
      "execution_count": 8,
      "outputs": [
        {
          "output_type": "stream",
          "name": "stdout",
          "text": [
            "--2021-11-25 08:34:47--  https://filesamples.com/samples/code/yaml/verify_apache.yaml\n",
            "Resolving filesamples.com (filesamples.com)... 104.21.17.252, 172.67.178.244, 2606:4700:3035::ac43:b2f4, ...\n",
            "Connecting to filesamples.com (filesamples.com)|104.21.17.252|:443... connected.\n",
            "HTTP request sent, awaiting response... 200 OK\n",
            "Length: 526 [application/octet-stream]\n",
            "Saving to: ‘example.yaml’\n",
            "\n",
            "example.yaml        100%[===================>]     526  --.-KB/s    in 0s      \n",
            "\n",
            "2021-11-25 08:34:47 (9.74 MB/s) - ‘example.yaml’ saved [526/526]\n",
            "\n"
          ]
        }
      ]
    },
    {
      "cell_type": "code",
      "metadata": {
        "id": "BJfQPC-KNiam"
      },
      "source": [
        "with open(\"example.yaml\", \"r\") as stream:\n",
        "    data = yaml.safe_load(stream)"
      ],
      "execution_count": 9,
      "outputs": []
    },
    {
      "cell_type": "code",
      "metadata": {
        "colab": {
          "base_uri": "https://localhost:8080/"
        },
        "id": "JYDQkAqvNlsC",
        "outputId": "0f6d4b9b-d89a-41df-aa4e-ab7ccff0a314"
      },
      "source": [
        "!cat example.yaml"
      ],
      "execution_count": 10,
      "outputs": [
        {
          "output_type": "stream",
          "name": "stdout",
          "text": [
            "---\n",
            "- hosts: webservers\n",
            "\n",
            "  vars:\n",
            "    http_port: 80\n",
            "    max_clients: 200\n",
            "\n",
            "  remote_user: root\n",
            "\n",
            "  tasks:\n",
            "  - name: ensure apache is at the latest version\n",
            "    yum:\n",
            "      name: httpd\n",
            "      state: latest\n",
            "\n",
            "  - name: write the apache config file\n",
            "    template:\n",
            "      src: /srv/httpd.j2\n",
            "      dest: /etc/httpd.conf\n",
            "    notify:\n",
            "    - restart apache\n",
            "\n",
            "  - name: ensure apache is running\n",
            "    service:\n",
            "      name: httpd\n",
            "      state: started\n",
            "\n",
            "  handlers:\n",
            "    - name: restart apache\n",
            "      service:\n",
            "        name: httpd\n",
            "        state: restarted"
          ]
        }
      ]
    },
    {
      "cell_type": "code",
      "metadata": {
        "colab": {
          "base_uri": "https://localhost:8080/"
        },
        "id": "lE12fWGANlUZ",
        "outputId": "3696a0ce-89d3-40b6-e861-bbb42584351c"
      },
      "source": [
        "data"
      ],
      "execution_count": 11,
      "outputs": [
        {
          "output_type": "execute_result",
          "data": {
            "text/plain": [
              "[{'handlers': [{'name': 'restart apache',\n",
              "    'service': {'name': 'httpd', 'state': 'restarted'}}],\n",
              "  'hosts': 'webservers',\n",
              "  'remote_user': 'root',\n",
              "  'tasks': [{'name': 'ensure apache is at the latest version',\n",
              "    'yum': {'name': 'httpd', 'state': 'latest'}},\n",
              "   {'name': 'write the apache config file',\n",
              "    'notify': ['restart apache'],\n",
              "    'template': {'dest': '/etc/httpd.conf', 'src': '/srv/httpd.j2'}},\n",
              "   {'name': 'ensure apache is running',\n",
              "    'service': {'name': 'httpd', 'state': 'started'}}],\n",
              "  'vars': {'http_port': 80, 'max_clients': 200}}]"
            ]
          },
          "metadata": {},
          "execution_count": 11
        }
      ]
    },
    {
      "cell_type": "code",
      "metadata": {
        "id": "P0ofSC_4Nqwh"
      },
      "source": [
        "dumped = yaml.dump(data, default_flow_style=False)"
      ],
      "execution_count": 12,
      "outputs": []
    },
    {
      "cell_type": "code",
      "metadata": {
        "colab": {
          "base_uri": "https://localhost:8080/"
        },
        "id": "SHxfQxo3Nz36",
        "outputId": "92a01e77-0c58-40ad-8d3f-afb0d194a3a6"
      },
      "source": [
        "print(dumped)"
      ],
      "execution_count": 13,
      "outputs": [
        {
          "output_type": "stream",
          "name": "stdout",
          "text": [
            "- handlers:\n",
            "  - name: restart apache\n",
            "    service:\n",
            "      name: httpd\n",
            "      state: restarted\n",
            "  hosts: webservers\n",
            "  remote_user: root\n",
            "  tasks:\n",
            "  - name: ensure apache is at the latest version\n",
            "    yum:\n",
            "      name: httpd\n",
            "      state: latest\n",
            "  - name: write the apache config file\n",
            "    notify:\n",
            "    - restart apache\n",
            "    template:\n",
            "      dest: /etc/httpd.conf\n",
            "      src: /srv/httpd.j2\n",
            "  - name: ensure apache is running\n",
            "    service:\n",
            "      name: httpd\n",
            "      state: started\n",
            "  vars:\n",
            "    http_port: 80\n",
            "    max_clients: 200\n",
            "\n"
          ]
        }
      ]
    }
  ]
}