{
  "nbformat": 4,
  "nbformat_minor": 0,
  "metadata": {
    "colab": {
      "name": "pyyaml_save_read.ipynb",
      "provenance": [],
      "authorship_tag": "ABX9TyOalumrwHG/8E2ZY4Yx75qK",
      "include_colab_link": true
    },
    "kernelspec": {
      "name": "python3",
      "display_name": "Python 3"
    },
    "language_info": {
      "name": "python"
    }
  },
  "cells": [
    {
      "cell_type": "markdown",
      "metadata": {
        "id": "view-in-github",
        "colab_type": "text"
      },
      "source": [
        "<a href=\"https://colab.research.google.com/github/hihunjin/Code-snippet-for-everything/blob/main/pyyaml_save_read.ipynb\" target=\"_parent\"><img src=\"https://colab.research.google.com/assets/colab-badge.svg\" alt=\"Open In Colab\"/></a>"
      ]
    },
    {
      "cell_type": "code",
      "metadata": {
        "id": "dWv4lV0W0RiN"
      },
      "source": [
        "import yaml   # import pyyaml"
      ],
      "execution_count": 1,
      "outputs": []
    },
    {
      "cell_type": "code",
      "metadata": {
        "id": "FDYe9acc0TMI"
      },
      "source": [
        "d = {\"lr\": 0.001, \"lr_decay\": 0.98, \"lr_min\": 1.0e-07, \"lr_scheduler\": \"multi\"}"
      ],
      "execution_count": 2,
      "outputs": []
    },
    {
      "cell_type": "markdown",
      "metadata": {
        "id": "niUu5wpQ0XkD"
      },
      "source": [
        "# Dump = Save"
      ]
    },
    {
      "cell_type": "code",
      "metadata": {
        "id": "bIeq13IG0WUq"
      },
      "source": [
        "with open('new.yml', 'w') as f:\n",
        "    yaml.dump(d, f, default_flow_style=False)"
      ],
      "execution_count": 3,
      "outputs": []
    },
    {
      "cell_type": "code",
      "metadata": {
        "colab": {
          "base_uri": "https://localhost:8080/"
        },
        "id": "GvcZ07TR0dwT",
        "outputId": "e17d113d-0329-4871-fcb5-a0c5bc834694"
      },
      "source": [
        "!cat new.yml"
      ],
      "execution_count": 4,
      "outputs": [
        {
          "output_type": "stream",
          "text": [
            "lr: 0.001\n",
            "lr_decay: 0.98\n",
            "lr_min: 1.0e-07\n",
            "lr_scheduler: multi\n"
          ],
          "name": "stdout"
        }
      ]
    },
    {
      "cell_type": "code",
      "metadata": {
        "id": "uBMz-NPe0kr7"
      },
      "source": [
        "with open('new_2.yml', 'w') as f:\n",
        "    yaml.dump(d, f)"
      ],
      "execution_count": 5,
      "outputs": []
    },
    {
      "cell_type": "code",
      "metadata": {
        "colab": {
          "base_uri": "https://localhost:8080/"
        },
        "id": "cHWRgCYi0o8q",
        "outputId": "f10683a1-4f38-42c7-ae62-8641c7d439e4"
      },
      "source": [
        "!cat new_2.yml"
      ],
      "execution_count": 6,
      "outputs": [
        {
          "output_type": "stream",
          "text": [
            "{lr: 0.001, lr_decay: 0.98, lr_min: 1.0e-07, lr_scheduler: multi}\n"
          ],
          "name": "stdout"
        }
      ]
    },
    {
      "cell_type": "markdown",
      "metadata": {
        "id": "PepNcDXU0sn1"
      },
      "source": [
        "# Load"
      ]
    },
    {
      "cell_type": "code",
      "metadata": {
        "colab": {
          "base_uri": "https://localhost:8080/"
        },
        "id": "IHCWCGGo0p-v",
        "outputId": "35b0ff86-5d6d-48ca-d836-18bb9d63af39"
      },
      "source": [
        "with open('new.yml') as f:\n",
        "    info = yaml.load(f)\n",
        "    print(info)"
      ],
      "execution_count": 7,
      "outputs": [
        {
          "output_type": "stream",
          "text": [
            "{'lr': 0.001, 'lr_decay': 0.98, 'lr_min': 1e-07, 'lr_scheduler': 'multi'}\n"
          ],
          "name": "stdout"
        }
      ]
    }
  ]
}