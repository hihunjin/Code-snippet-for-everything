{
  "nbformat": 4,
  "nbformat_minor": 0,
  "metadata": {
    "colab": {
      "name": "draw_contour.ipynb",
      "provenance": [],
      "authorship_tag": "ABX9TyMHlprX7NrCbSnmzDm0RN5b",
      "include_colab_link": true
    },
    "kernelspec": {
      "name": "python3",
      "display_name": "Python 3"
    },
    "language_info": {
      "name": "python"
    }
  },
  "cells": [
    {
      "cell_type": "markdown",
      "metadata": {
        "id": "view-in-github",
        "colab_type": "text"
      },
      "source": [
        "<a href=\"https://colab.research.google.com/github/hihunjin/Code-snippet-for-everything/blob/main/fill_contour.ipynb\" target=\"_parent\"><img src=\"https://colab.research.google.com/assets/colab-badge.svg\" alt=\"Open In Colab\"/></a>"
      ]
    },
    {
      "cell_type": "code",
      "source": [
        "import cv2\n",
        "import numpy as np\n",
        "from PIL import Image\n",
        "from copy import deepcopy"
      ],
      "metadata": {
        "id": "p_C-PRBxy7M7"
      },
      "execution_count": 1,
      "outputs": []
    },
    {
      "cell_type": "code",
      "source": [
        "def array_show(array):\n",
        "    array = Image.fromarray(array)\n",
        "    display(array)"
      ],
      "metadata": {
        "id": "VTiBDXIoSJPn"
      },
      "execution_count": 2,
      "outputs": []
    },
    {
      "cell_type": "code",
      "execution_count": 3,
      "metadata": {
        "id": "aJYE8YJ3y42n"
      },
      "outputs": [],
      "source": [
        "e = np.zeros(shape=(150,150), dtype='uint8')\n",
        "e[2:10, 3:50] = 150\n",
        "e[2:10, 100:110] = 150"
      ]
    },
    {
      "cell_type": "code",
      "source": [
        "ee = deepcopy(e)"
      ],
      "metadata": {
        "id": "QQ-W8xiTp_mf"
      },
      "execution_count": 4,
      "outputs": []
    },
    {
      "cell_type": "code",
      "source": [
        "array_show(e)\n",
        "print()\n",
        "array_show(ee)"
      ],
      "metadata": {
        "id": "Jhyrn31JqLSp",
        "outputId": "8f40b4d4-3cd3-45a4-eab2-d48007be5913",
        "colab": {
          "base_uri": "https://localhost:8080/",
          "height": 335
        }
      },
      "execution_count": 5,
      "outputs": [
        {
          "output_type": "display_data",
          "data": {
            "text/plain": [
              "<PIL.Image.Image image mode=L size=150x150 at 0x7F32A4F13250>"
            ],
            "image/png": "[encoded data removed]"
          },
          "metadata": {}
        },
        {
          "output_type": "stream",
          "name": "stdout",
          "text": [
            "\n"
          ]
        },
        {
          "output_type": "display_data",
          "data": {
            "text/plain": [
              "<PIL.Image.Image image mode=L size=150x150 at 0x7F32A4F07C10>"
            ],
            "image/png": "[encoded data removed]"
          },
          "metadata": {}
        }
      ]
    },
    {
      "cell_type": "code",
      "source": [
        "contours, _ = cv2.findContours(\n",
        "    e,\n",
        "    cv2.RETR_EXTERNAL,\n",
        "    cv2.CHAIN_APPROX_SIMPLE\n",
        ")"
      ],
      "metadata": {
        "id": "PxFUOCXgzGcn"
      },
      "execution_count": 6,
      "outputs": []
    },
    {
      "cell_type": "code",
      "source": [
        "print(_)\n",
        "print()\n",
        "print(len(contours))\n",
        "print()\n",
        "print(contours)"
      ],
      "metadata": {
        "colab": {
          "base_uri": "https://localhost:8080/"
        },
        "id": "4_znL0qczbhC",
        "outputId": "45cba115-166e-4720-8375-06f7ad2a4dee"
      },
      "execution_count": 7,
      "outputs": [
        {
          "output_type": "stream",
          "name": "stdout",
          "text": [
            "[[[ 1 -1 -1 -1]\n",
            "  [-1  0 -1 -1]]]\n",
            "\n",
            "2\n",
            "\n",
            "[array([[[100,   2]],\n",
            "\n",
            "       [[100,   9]],\n",
            "\n",
            "       [[109,   9]],\n",
            "\n",
            "       [[109,   2]]], dtype=int32), array([[[ 3,  2]],\n",
            "\n",
            "       [[ 3,  9]],\n",
            "\n",
            "       [[49,  9]],\n",
            "\n",
            "       [[49,  2]]], dtype=int32)]\n"
          ]
        }
      ]
    },
    {
      "cell_type": "markdown",
      "source": [
        "# fill contour\n",
        "\n",
        "* 아래 두개가 같은것 같음..?"
      ],
      "metadata": {
        "id": "glZWUhU8qBZT"
      }
    },
    {
      "cell_type": "code",
      "source": [
        "cv2.drawContours(e, contours, -1, [255], thickness=cv2.FILLED);\n",
        "# cv2.drawContours(img, contours, -1, color=(255, 255, 255), thickness=cv2.FILLED)"
      ],
      "metadata": {
        "id": "8JhiNhvkRlfy"
      },
      "execution_count": 8,
      "outputs": []
    },
    {
      "cell_type": "code",
      "source": [
        "array_show(e)"
      ],
      "metadata": {
        "id": "uyHLxYK2R2SY",
        "outputId": "8d4a63e1-7f6e-452d-c27d-6fd9f0ae997b",
        "colab": {
          "base_uri": "https://localhost:8080/",
          "height": 167
        }
      },
      "execution_count": 9,
      "outputs": [
        {
          "output_type": "display_data",
          "data": {
            "text/plain": [
              "<PIL.Image.Image image mode=L size=150x150 at 0x7F32A4EA53D0>"
            ],
            "image/png": "[encoded data removed]"
          },
          "metadata": {}
        }
      ]
    },
    {
      "cell_type": "code",
      "source": [
        "cv2.fillPoly(ee, pts =contours, color=(255));"
      ],
      "metadata": {
        "id": "6Bu259S9Scgr"
      },
      "execution_count": 10,
      "outputs": []
    },
    {
      "cell_type": "code",
      "source": [
        "array_show(ee)"
      ],
      "metadata": {
        "id": "8mhhgmvho6fB",
        "outputId": "10436d47-23a9-4827-bef9-345fcc18bdc7",
        "colab": {
          "base_uri": "https://localhost:8080/",
          "height": 167
        }
      },
      "execution_count": 11,
      "outputs": [
        {
          "output_type": "display_data",
          "data": {
            "text/plain": [
              "<PIL.Image.Image image mode=L size=150x150 at 0x7F32A4EAD190>"
            ],
            "image/png": "[encoded data removed]"
          },
          "metadata": {}
        }
      ]
    }
  ]
}