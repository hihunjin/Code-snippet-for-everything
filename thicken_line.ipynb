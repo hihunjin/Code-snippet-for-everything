{
  "nbformat": 4,
  "nbformat_minor": 0,
  "metadata": {
    "colab": {
      "name": "thicken_line.ipynb",
      "provenance": [],
      "authorship_tag": "ABX9TyO4zrPTurSUQ/CJcYR9JndN",
      "include_colab_link": true
    },
    "kernelspec": {
      "name": "python3",
      "display_name": "Python 3"
    },
    "language_info": {
      "name": "python"
    }
  },
  "cells": [
    {
      "cell_type": "markdown",
      "metadata": {
        "id": "view-in-github",
        "colab_type": "text"
      },
      "source": [
        "<a href=\"https://colab.research.google.com/github/hihunjin/Code-snippet-for-everything/blob/main/thicken_line.ipynb\" target=\"_parent\"><img src=\"https://colab.research.google.com/assets/colab-badge.svg\" alt=\"Open In Colab\"/></a>"
      ]
    },
    {
      "cell_type": "markdown",
      "source": [
        "* ref : [link](https://stackoverflow.com/questions/46895772/thicken-a-one-pixel-line)"
      ],
      "metadata": {
        "id": "VqPKUb4S8Mky"
      }
    },
    {
      "cell_type": "code",
      "execution_count": null,
      "metadata": {
        "colab": {
          "base_uri": "https://localhost:8080/",
          "height": 217
        },
        "id": "l9729Cr6743J",
        "outputId": "8e37aa9d-a15a-4800-f032-88fee6bde6c9"
      },
      "outputs": [
        {
          "output_type": "display_data",
          "data": {
            "text/plain": [
              "<PIL.Image.Image image mode=RGB size=200x200 at 0x7FB1CA083910>"
            ],
            "image/png": "[encoded data removed]"
          },
          "metadata": {}
        }
      ],
      "source": [
        "import cv2\n",
        "import numpy as np\n",
        "from PIL import Image\n",
        "\n",
        "def array_show(arr):\n",
        "    display(Image.fromarray(arr))\n",
        "\n",
        "# Create test image\n",
        "mask = np.zeros((200,200,3), dtype=np.uint8)\n",
        "cv2.line(mask, (50, 100), (150, 100), (255,255,255), 1)\n",
        "array_show(mask)"
      ]
    },
    {
      "cell_type": "markdown",
      "source": [
        "# Thicken a line"
      ],
      "metadata": {
        "id": "rt34-r3C76hm"
      }
    },
    {
      "cell_type": "code",
      "source": [
        "gray = cv2.cvtColor(mask, cv2.COLOR_BGR2GRAY)\n",
        "cnts = cv2.findContours(gray, cv2.RETR_EXTERNAL, cv2.CHAIN_APPROX_SIMPLE)\n",
        "cnts = cnts[0] if len(cnts) == 2 else cnts[1]\n",
        "for c in cnts:\n",
        "    cv2.drawContours(mask, [c], -1, (255,255,255), thickness=15)\n",
        "array_show(mask)"
      ],
      "metadata": {
        "colab": {
          "base_uri": "https://localhost:8080/",
          "height": 217
        },
        "id": "_u18xk9V75N2",
        "outputId": "b2865800-fab0-42a2-a2a1-2849ee747b5a"
      },
      "execution_count": null,
      "outputs": [
        {
          "output_type": "display_data",
          "data": {
            "text/plain": [
              "<PIL.Image.Image image mode=RGB size=200x200 at 0x7FB1BAB7FE50>"
            ],
            "image/png": "[encoded data removed]"
          },
          "metadata": {}
        }
      ]
    }
  ]
}