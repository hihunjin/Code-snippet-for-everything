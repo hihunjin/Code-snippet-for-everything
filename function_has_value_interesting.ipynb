{
  "nbformat": 4,
  "nbformat_minor": 0,
  "metadata": {
    "colab": {
      "name": "function_has_value_interesting.ipynb",
      "provenance": [],
      "authorship_tag": "ABX9TyNIIGZxHm74iRTZWzjR/EWv",
      "include_colab_link": true
    },
    "kernelspec": {
      "name": "python3",
      "display_name": "Python 3"
    },
    "language_info": {
      "name": "python"
    }
  },
  "cells": [
    {
      "cell_type": "markdown",
      "metadata": {
        "id": "view-in-github",
        "colab_type": "text"
      },
      "source": [
        "<a href=\"https://colab.research.google.com/github/hihunjin/Code-snippet-for-everything/blob/main/function_has_value_interesting.ipynb\" target=\"_parent\"><img src=\"https://colab.research.google.com/assets/colab-badge.svg\" alt=\"Open In Colab\"/></a>"
      ]
    },
    {
      "cell_type": "code",
      "execution_count": 1,
      "metadata": {
        "id": "UB0lU5aNYNTa"
      },
      "outputs": [],
      "source": [
        "def value_and_function(value, f):\n",
        "    return f(value)"
      ]
    },
    {
      "cell_type": "code",
      "source": [
        "def run(data = 2):\n",
        "    def this_function(value):\n",
        "        return data**2 + value\n",
        "    return value_and_function(3, this_function)"
      ],
      "metadata": {
        "id": "sDcpBGxoewZS"
      },
      "execution_count": 2,
      "outputs": []
    },
    {
      "cell_type": "code",
      "source": [
        "print(run())"
      ],
      "metadata": {
        "colab": {
          "base_uri": "https://localhost:8080/"
        },
        "id": "rZMzyX4CexDZ",
        "outputId": "ad8f55c9-7a4a-4770-cbfc-a0157abc2149"
      },
      "execution_count": 3,
      "outputs": [
        {
          "output_type": "stream",
          "name": "stdout",
          "text": [
            "7\n"
          ]
        }
      ]
    }
  ]
}