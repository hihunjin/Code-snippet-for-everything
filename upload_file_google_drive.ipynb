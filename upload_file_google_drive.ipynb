{
  "nbformat": 4,
  "nbformat_minor": 0,
  "metadata": {
    "colab": {
      "provenance": [],
      "authorship_tag": "ABX9TyMD/+gPZTAel8toTjpGPYie",
      "include_colab_link": true
    },
    "kernelspec": {
      "name": "python3",
      "display_name": "Python 3"
    },
    "language_info": {
      "name": "python"
    }
  },
  "cells": [
    {
      "cell_type": "markdown",
      "metadata": {
        "id": "view-in-github",
        "colab_type": "text"
      },
      "source": [
        "<a href=\"https://colab.research.google.com/github/hihunjin/Code-snippet-for-everything/blob/main/upload_file_google_drive.ipynb\" target=\"_parent\"><img src=\"https://colab.research.google.com/assets/colab-badge.svg\" alt=\"Open In Colab\"/></a>"
      ]
    },
    {
      "cell_type": "code",
      "source": [
        "%%capture\n",
        "!pip install --upgrade google-api-python-client"
      ],
      "metadata": {
        "id": "mH8ChVV-8fZ8"
      },
      "execution_count": null,
      "outputs": []
    },
    {
      "cell_type": "markdown",
      "source": [
        "# service account json file 만드는 방법.\n",
        "\n",
        "1. project 생성\n",
        "2. API 및 서비스에서 Google Drive API 추가.(없으면 검색해서!)\n",
        "3. [console.cloud.google.com/] 에서 API 서비스에서 서비스 계정 생성\n",
        "4. 서비스 -> 키 -> 키추가 -> json으로 생성"
      ],
      "metadata": {
        "id": "txLRj48l9Hc4"
      }
    },
    {
      "cell_type": "code",
      "source": [
        "import os"
      ],
      "metadata": {
        "id": "v89VIRJx8xgd"
      },
      "execution_count": 4,
      "outputs": []
    },
    {
      "cell_type": "code",
      "execution_count": 1,
      "metadata": {
        "id": "ujzD4qOe8eVP"
      },
      "outputs": [],
      "source": [
        "from google.oauth2 import service_account\n",
        "from googleapiclient.discovery import build\n",
        "from googleapiclient.errors import HttpError\n",
        "from googleapiclient.http import MediaFileUpload"
      ]
    },
    {
      "cell_type": "code",
      "source": [
        "# Set the necessary scopes and authenticate the user\n",
        "SCOPES = ['https://www.googleapis.com/auth/drive']\n",
        "SERVICE_ACCOUNT_FILE = \"/content/upload-380000-56040e7766a8.json\"\n",
        "FOLDER_ID = '18meDDwOIiReiy0sSJtfAuMtBedBRi5_z'  # get folder id from url like https://drive.google.com/drive/folders/18meDDwOIiReiy0sSJtfAuMtBedBRi5_z?usp=sharing\n",
        "FILE_NAME = 'test.csv'  # file name on google drive when uploaded.\n",
        "file_path = '/content/sample_data/california_housing_test.csv'  # local file to upload"
      ],
      "metadata": {
        "id": "MzK4XKRe8mY2"
      },
      "execution_count": 2,
      "outputs": []
    },
    {
      "cell_type": "code",
      "source": [
        "assert os.path.isfile(SERVICE_ACCOUNT_FILE)"
      ],
      "metadata": {
        "id": "zbvu49Y68y3c"
      },
      "execution_count": null,
      "outputs": []
    },
    {
      "cell_type": "code",
      "source": [
        "creds = service_account.Credentials.from_service_account_file(\n",
        "    SERVICE_ACCOUNT_FILE,\n",
        "    scopes=SCOPES,\n",
        ")\n",
        "\n",
        "# Create the Drive API client\n",
        "drive_service = build('drive', 'v3', credentials=creds)\n",
        "\n",
        "# Set the metadata for the new file\n",
        "file_metadata = {'name': FILE_NAME, 'parents': [FOLDER_ID]}\n",
        "\n",
        "# Set the file path and MIME type\n",
        "mimetype = 'text/plain'\n",
        "\n",
        "# Create a MediaFileUpload object for the file\n",
        "file = MediaFileUpload(file_path, mimetype=mimetype)\n",
        "\n",
        "# Upload the file to Google Drive\n",
        "try:\n",
        "    file = drive_service.files().create(body=file_metadata, media_body=file,\n",
        "                                         fields='id').execute()\n",
        "    print('File ID: %s' % file.get('id'))\n",
        "except HttpError as error:\n",
        "    print('An error occurred: %s' % error)\n",
        "    file = None"
      ],
      "metadata": {
        "id": "3Q9SXSmD8oOk"
      },
      "execution_count": null,
      "outputs": []
    },
    {
      "cell_type": "code",
      "source": [],
      "metadata": {
        "id": "RdYvmaad8ukq"
      },
      "execution_count": null,
      "outputs": []
    }
  ]
}