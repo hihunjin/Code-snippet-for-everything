{
  "nbformat": 4,
  "nbformat_minor": 0,
  "metadata": {
    "colab": {
      "name": "pyplot_practice_legend_xticks_xlabel_title_axhline.ipynb",
      "provenance": [],
      "authorship_tag": "ABX9TyNSpodYqboSOkFWNlDXCm8r",
      "include_colab_link": true
    },
    "kernelspec": {
      "name": "python3",
      "display_name": "Python 3"
    },
    "language_info": {
      "name": "python"
    }
  },
  "cells": [
    {
      "cell_type": "markdown",
      "metadata": {
        "id": "view-in-github",
        "colab_type": "text"
      },
      "source": [
        "<a href=\"https://colab.research.google.com/github/hihunjin/Code-snippet-for-everything/blob/main/pyplot_practice_legend_xticks_xlabel_title_axhline.ipynb\" target=\"_parent\"><img src=\"https://colab.research.google.com/assets/colab-badge.svg\" alt=\"Open In Colab\"/></a>"
      ]
    },
    {
      "cell_type": "code",
      "source": [
        "import matplotlib.pyplot as plt"
      ],
      "metadata": {
        "id": "H-LsGKRmmPZj"
      },
      "execution_count": 1,
      "outputs": []
    },
    {
      "cell_type": "code",
      "execution_count": 2,
      "metadata": {
        "colab": {
          "base_uri": "https://localhost:8080/",
          "height": 351
        },
        "id": "HR9UeGIemOlq",
        "outputId": "038756c7-3cc5-4d77-efa5-a1cb82aca68b"
      },
      "outputs": [
        {
          "output_type": "execute_result",
          "data": {
            "text/plain": [
              "<matplotlib.legend.Legend at 0x7fda8175d510>"
            ]
          },
          "metadata": {},
          "execution_count": 2
        },
        {
          "output_type": "display_data",
          "data": {
            "text/plain": [
              "<Figure size 360x360 with 1 Axes>"
            ],
            "image/png": "[encoded data removed]"
          },
          "metadata": {
            "needs_background": "light"
          }
        }
      ],
      "source": [
        "thresholds = [1.5735281705856323, 1.8959220886230468, 1.922381341457367, 1.948000955581665, 2.0015297889709474, 2.0628435611724854]\n",
        "k = 1.7985033988952637\n",
        "plt.figure(figsize=(5,5))\n",
        "plt.title(\"title here\")\n",
        "plt.xlabel(\"min  -  q0.2  -  q0.25  -  q0.3  -  q0.4  -  q0.5     (quantile)\")\n",
        "plt.xticks([], [])\n",
        "plt.plot(thresholds, marker='o')\n",
        "plt.axhline(y=k, color='r', linestyle='-', label=\"best pixel F1\")\n",
        "plt.legend()"
      ]
    }
  ]
}