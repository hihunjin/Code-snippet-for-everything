{
  "nbformat": 4,
  "nbformat_minor": 0,
  "metadata": {
    "colab": {
      "name": "nib_sitk_benchmark",
      "provenance": [],
      "collapsed_sections": [],
      "include_colab_link": true
    },
    "kernelspec": {
      "display_name": "Python 3",
      "name": "python3"
    }
  },
  "cells": [
    {
      "cell_type": "markdown",
      "metadata": {
        "id": "view-in-github",
        "colab_type": "text"
      },
      "source": [
        "<a href=\"https://colab.research.google.com/github/hihunjin/Code-snippet-for-everything/blob/main/nib_sitk_benchmark.ipynb\" target=\"_parent\"><img src=\"https://colab.research.google.com/assets/colab-badge.svg\" alt=\"Open In Colab\"/></a>"
      ]
    },
    {
      "cell_type": "markdown",
      "metadata": {
        "id": "KnGouzFU4nEb"
      },
      "source": [
        "# Load and Save benchmark of nibabel and SimpleITK\n",
        "\n",
        "* load : nib > sitk\n",
        "* save : sitk > nib"
      ]
    },
    {
      "cell_type": "code",
      "metadata": {
        "id": "gJr_9dXGpJ05"
      },
      "source": [
        "%%capture\n",
        "!pip install SimpleITK nibabel"
      ],
      "execution_count": null,
      "outputs": []
    },
    {
      "cell_type": "code",
      "metadata": {
        "id": "JEAs-IJhng85"
      },
      "source": [
        "import numpy as np\n",
        "import nibabel as nib\n",
        "import SimpleITK as sitk"
      ],
      "execution_count": null,
      "outputs": []
    },
    {
      "cell_type": "code",
      "metadata": {
        "id": "XSsX-pmBng53",
        "colab": {
          "base_uri": "https://localhost:8080/"
        },
        "outputId": "b78ecb96-0cf7-4194-9a64-2e1d982700b0"
      },
      "source": [
        "%%timeit\n",
        "img = nib.load('/content/104_mask_Gallbladder_rot.nii')\n",
        "img_affine  = img.affine\n",
        "img = img.get_fdata(dtype=np.float32)\n",
        "# img = np.asanyarray(img.dataobj)\n",
        "# print(type(img))  # <class 'numpy.memmap'>"
      ],
      "execution_count": null,
      "outputs": [
        {
          "output_type": "stream",
          "text": [
            "10 loops, best of 5: 26.2 ms per loop\n"
          ],
          "name": "stdout"
        }
      ]
    },
    {
      "cell_type": "code",
      "metadata": {
        "id": "49k3TVZRng0Z",
        "colab": {
          "base_uri": "https://localhost:8080/"
        },
        "outputId": "a3f97057-386b-43db-b6c0-cfc9f7720f09"
      },
      "source": [
        "%%timeit\n",
        "img2 = sitk.ReadImage('/content/104_mask_Gallbladder_rot.nii', sitk.sitkUInt8)\n",
        "img2 = sitk.GetArrayFromImage(img2)\n",
        "# print(type(img))    # <class 'numpy.memmap'>"
      ],
      "execution_count": null,
      "outputs": [
        {
          "output_type": "stream",
          "text": [
            "10 loops, best of 5: 39.5 ms per loop\n"
          ],
          "name": "stdout"
        }
      ]
    },
    {
      "cell_type": "code",
      "metadata": {
        "id": "TQdShe2engyV",
        "colab": {
          "base_uri": "https://localhost:8080/"
        },
        "outputId": "0266f880-1238-460c-943d-2e7aa2ac5d5c"
      },
      "source": [
        "%%timeit\n",
        "d = nib.Nifti1Image(img,img_affine)\n",
        "d.to_filename('xxxxx.nii.gz')"
      ],
      "execution_count": null,
      "outputs": [
        {
          "output_type": "stream",
          "text": [
            "1 loop, best of 5: 616 ms per loop\n"
          ],
          "name": "stdout"
        }
      ]
    },
    {
      "cell_type": "code",
      "metadata": {
        "id": "bKeObn_R3kAp",
        "colab": {
          "base_uri": "https://localhost:8080/"
        },
        "outputId": "844a4986-eb96-49d7-f02f-a77bf181d5ba"
      },
      "source": [
        "%%timeit\n",
        "out = sitk.GetImageFromArray(img2)\n",
        "sitk.WriteImage(out,'xxxxx.nii.gz')"
      ],
      "execution_count": null,
      "outputs": [
        {
          "output_type": "stream",
          "text": [
            "1 loop, best of 5: 316 ms per loop\n"
          ],
          "name": "stdout"
        }
      ]
    }
  ]
}