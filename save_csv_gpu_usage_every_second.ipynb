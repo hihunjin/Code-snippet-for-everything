{
  "nbformat": 4,
  "nbformat_minor": 0,
  "metadata": {
    "colab": {
      "provenance": [],
      "gpuType": "T4",
      "authorship_tag": "ABX9TyNiD9OfxdpohxWtSq3+ZSbQ",
      "include_colab_link": true
    },
    "kernelspec": {
      "name": "python3",
      "display_name": "Python 3"
    },
    "language_info": {
      "name": "python"
    },
    "accelerator": "GPU",
    "gpuClass": "standard"
  },
  "cells": [
    {
      "cell_type": "markdown",
      "metadata": {
        "id": "view-in-github",
        "colab_type": "text"
      },
      "source": [
        "<a href=\"https://colab.research.google.com/github/hihunjin/Code-snippet-for-everything/blob/main/save_csv_gpu_usage_every_second.ipynb\" target=\"_parent\"><img src=\"https://colab.research.google.com/assets/colab-badge.svg\" alt=\"Open In Colab\"/></a>"
      ]
    },
    {
      "cell_type": "code",
      "execution_count": 1,
      "metadata": {
        "colab": {
          "base_uri": "https://localhost:8080/"
        },
        "id": "9c0FN85M2or8",
        "outputId": "0c22e5c2-10ac-485b-dd86-648cec2656fb"
      },
      "outputs": [
        {
          "output_type": "stream",
          "name": "stdout",
          "text": [
            "Sat May  6 02:20:06 2023       \n",
            "+-----------------------------------------------------------------------------+\n",
            "| NVIDIA-SMI 525.85.12    Driver Version: 525.85.12    CUDA Version: 12.0     |\n",
            "|-------------------------------+----------------------+----------------------+\n",
            "| GPU  Name        Persistence-M| Bus-Id        Disp.A | Volatile Uncorr. ECC |\n",
            "| Fan  Temp  Perf  Pwr:Usage/Cap|         Memory-Usage | GPU-Util  Compute M. |\n",
            "|                               |                      |               MIG M. |\n",
            "|===============================+======================+======================|\n",
            "|   0  Tesla T4            Off  | 00000000:00:04.0 Off |                    0 |\n",
            "| N/A   66C    P8    12W /  70W |      0MiB / 15360MiB |      0%      Default |\n",
            "|                               |                      |                  N/A |\n",
            "+-------------------------------+----------------------+----------------------+\n",
            "                                                                               \n",
            "+-----------------------------------------------------------------------------+\n",
            "| Processes:                                                                  |\n",
            "|  GPU   GI   CI        PID   Type   Process name                  GPU Memory |\n",
            "|        ID   ID                                                   Usage      |\n",
            "|=============================================================================|\n",
            "|  No running processes found                                                 |\n",
            "+-----------------------------------------------------------------------------+\n"
          ]
        }
      ],
      "source": [
        "!nvidia-smi"
      ]
    },
    {
      "cell_type": "code",
      "source": [
        "%%capture\n",
        "!pip install pynvml"
      ],
      "metadata": {
        "id": "-Q0aIcEU23d8"
      },
      "execution_count": 2,
      "outputs": []
    },
    {
      "cell_type": "code",
      "source": [
        "from typing import List, Tuple\n",
        "import time\n",
        "import pynvml\n",
        "from datetime import datetime\n",
        "\n",
        "import pandas as pd"
      ],
      "metadata": {
        "id": "Madl602828CS"
      },
      "execution_count": 3,
      "outputs": []
    },
    {
      "cell_type": "code",
      "source": [
        "csv_loc = \"record.csv\"\n",
        "duration = 3"
      ],
      "metadata": {
        "id": "4f_M9LpX2-G2"
      },
      "execution_count": 9,
      "outputs": []
    },
    {
      "cell_type": "code",
      "source": [
        "def get_gpu_memory() -> List[Tuple]:\n",
        "    \"\"\"GPU device당 GPU메모리를 NVML 모듈로부터 바이트 단위로 읽어옵니다.\n",
        "\n",
        "    Returns:\n",
        "        List[Tuple]: GPU memory in bytes\n",
        "\n",
        "    Note:\n",
        "        Use --pid=host flag with Docker.\n",
        "    \"\"\"\n",
        "    pynvml.nvmlInit()\n",
        "    memories = []\n",
        "    for device_id in range(pynvml.nvmlDeviceGetCount()):\n",
        "        handle = pynvml.nvmlDeviceGetHandleByIndex(device_id)\n",
        "        mem_info = pynvml.nvmlDeviceGetMemoryInfo(handle)\n",
        "        mem_used = mem_info.used\n",
        "        if mem_used is None:\n",
        "            memories.append(\n",
        "                (device_id, 0)\n",
        "            )\n",
        "        else:\n",
        "            memories.append(\n",
        "                (device_id, mem_used)\n",
        "            )\n",
        "    return memories\n"
      ],
      "metadata": {
        "id": "aPVizB3L2-1N"
      },
      "execution_count": 10,
      "outputs": []
    },
    {
      "cell_type": "code",
      "source": [
        "df = pd.DataFrame(columns=[\"time\", \"device_id\", \"GPU_memory_usage\"])\n",
        "df.to_csv(csv_loc, index=False)\n",
        "st = time.time()\n",
        "while time.time() - st < duration:\n",
        "    # print(\"Subprocess is still running\")\n",
        "    # print(\"process.poll()\", process.poll())\n",
        "    memories = get_gpu_memory()\n",
        "    _df = []  # pd.DataFrame(columns=[\"time\", \"device_id\", \"GPU_memory_usage\"])\n",
        "    for device_id, memory in memories:\n",
        "        # print(memory)\n",
        "        _df.append(\n",
        "            {\n",
        "                \"time\": datetime.now().strftime(\"%H:%M:%S.%f\"),\n",
        "                \"device_id\": int(device_id),\n",
        "                \"GPU_memory_usage\": round(memory / 1024 ** 2, 5),\n",
        "            }\n",
        "        )\n",
        "    _df = pd.DataFrame(_df)\n",
        "    _df.to_csv(csv_loc, mode=\"a\", index=False, header=False)\n",
        "    time.sleep(0.2)\n"
      ],
      "metadata": {
        "id": "KXBIX6u_2_6p"
      },
      "execution_count": 11,
      "outputs": []
    },
    {
      "cell_type": "code",
      "source": [
        "df_record = pd.read_csv(csv_loc)"
      ],
      "metadata": {
        "id": "Dx16iYle3Axb"
      },
      "execution_count": 12,
      "outputs": []
    },
    {
      "cell_type": "code",
      "source": [
        "df_record.head(10)"
      ],
      "metadata": {
        "colab": {
          "base_uri": "https://localhost:8080/",
          "height": 363
        },
        "id": "0B8_RQUO3BpZ",
        "outputId": "0e71d304-0194-4caa-8804-9fe45605c58a"
      },
      "execution_count": 13,
      "outputs": [
        {
          "output_type": "execute_result",
          "data": {
            "text/plain": [
              "              time  device_id  GPU_memory_usage\n",
              "0  02:20:45.576565          0          258.3125\n",
              "1  02:20:45.778599          0          258.3125\n",
              "2  02:20:45.980249          0          258.3125\n",
              "3  02:20:46.181920          0          258.3125\n",
              "4  02:20:46.384650          0          258.3125\n",
              "5  02:20:46.586404          0          258.3125\n",
              "6  02:20:46.788254          0          258.3125\n",
              "7  02:20:46.989915          0          258.3125\n",
              "8  02:20:47.191707          0          258.3125\n",
              "9  02:20:47.393467          0          258.3125"
            ],
            "text/html": [
              "\n",
              "  <div id=\"df-38283fe9-6b49-4e9a-8cab-6b69d05c769a\">\n",
              "    <div class=\"colab-df-container\">\n",
              "      <div>\n",
              "<style scoped>\n",
              "    .dataframe tbody tr th:only-of-type {\n",
              "        vertical-align: middle;\n",
              "    }\n",
              "\n",
              "    .dataframe tbody tr th {\n",
              "        vertical-align: top;\n",
              "    }\n",
              "\n",
              "    .dataframe thead th {\n",
              "        text-align: right;\n",
              "    }\n",
              "</style>\n",
              "<table border=\"1\" class=\"dataframe\">\n",
              "  <thead>\n",
              "    <tr style=\"text-align: right;\">\n",
              "      <th></th>\n",
              "      <th>time</th>\n",
              "      <th>device_id</th>\n",
              "      <th>GPU_memory_usage</th>\n",
              "    </tr>\n",
              "  </thead>\n",
              "  <tbody>\n",
              "    <tr>\n",
              "      <th>0</th>\n",
              "      <td>02:20:45.576565</td>\n",
              "      <td>0</td>\n",
              "      <td>258.3125</td>\n",
              "    </tr>\n",
              "    <tr>\n",
              "      <th>1</th>\n",
              "      <td>02:20:45.778599</td>\n",
              "      <td>0</td>\n",
              "      <td>258.3125</td>\n",
              "    </tr>\n",
              "    <tr>\n",
              "      <th>2</th>\n",
              "      <td>02:20:45.980249</td>\n",
              "      <td>0</td>\n",
              "      <td>258.3125</td>\n",
              "    </tr>\n",
              "    <tr>\n",
              "      <th>3</th>\n",
              "      <td>02:20:46.181920</td>\n",
              "      <td>0</td>\n",
              "      <td>258.3125</td>\n",
              "    </tr>\n",
              "    <tr>\n",
              "      <th>4</th>\n",
              "      <td>02:20:46.384650</td>\n",
              "      <td>0</td>\n",
              "      <td>258.3125</td>\n",
              "    </tr>\n",
              "    <tr>\n",
              "      <th>5</th>\n",
              "      <td>02:20:46.586404</td>\n",
              "      <td>0</td>\n",
              "      <td>258.3125</td>\n",
              "    </tr>\n",
              "    <tr>\n",
              "      <th>6</th>\n",
              "      <td>02:20:46.788254</td>\n",
              "      <td>0</td>\n",
              "      <td>258.3125</td>\n",
              "    </tr>\n",
              "    <tr>\n",
              "      <th>7</th>\n",
              "      <td>02:20:46.989915</td>\n",
              "      <td>0</td>\n",
              "      <td>258.3125</td>\n",
              "    </tr>\n",
              "    <tr>\n",
              "      <th>8</th>\n",
              "      <td>02:20:47.191707</td>\n",
              "      <td>0</td>\n",
              "      <td>258.3125</td>\n",
              "    </tr>\n",
              "    <tr>\n",
              "      <th>9</th>\n",
              "      <td>02:20:47.393467</td>\n",
              "      <td>0</td>\n",
              "      <td>258.3125</td>\n",
              "    </tr>\n",
              "  </tbody>\n",
              "</table>\n",
              "</div>\n",
              "      <button class=\"colab-df-convert\" onclick=\"convertToInteractive('df-38283fe9-6b49-4e9a-8cab-6b69d05c769a')\"\n",
              "              title=\"Convert this dataframe to an interactive table.\"\n",
              "              style=\"display:none;\">\n",
              "        \n",
              "  <svg xmlns=\"http://www.w3.org/2000/svg\" height=\"24px\"viewBox=\"0 0 24 24\"\n",
              "       width=\"24px\">\n",
              "    <path d=\"M0 0h24v24H0V0z\" fill=\"none\"/>\n",
              "    <path d=\"M18.56 5.44l.94 2.06.94-2.06 2.06-.94-2.06-.94-.94-2.06-.94 2.06-2.06.94zm-11 1L8.5 8.5l.94-2.06 2.06-.94-2.06-.94L8.5 2.5l-.94 2.06-2.06.94zm10 10l.94 2.06.94-2.06 2.06-.94-2.06-.94-.94-2.06-.94 2.06-2.06.94z\"/><path d=\"M17.41 7.96l-1.37-1.37c-.4-.4-.92-.59-1.43-.59-.52 0-1.04.2-1.43.59L10.3 9.45l-7.72 7.72c-.78.78-.78 2.05 0 2.83L4 21.41c.39.39.9.59 1.41.59.51 0 1.02-.2 1.41-.59l7.78-7.78 2.81-2.81c.8-.78.8-2.07 0-2.86zM5.41 20L4 18.59l7.72-7.72 1.47 1.35L5.41 20z\"/>\n",
              "  </svg>\n",
              "      </button>\n",
              "      \n",
              "  <style>\n",
              "    .colab-df-container {\n",
              "      display:flex;\n",
              "      flex-wrap:wrap;\n",
              "      gap: 12px;\n",
              "    }\n",
              "\n",
              "    .colab-df-convert {\n",
              "      background-color: #E8F0FE;\n",
              "      border: none;\n",
              "      border-radius: 50%;\n",
              "      cursor: pointer;\n",
              "      display: none;\n",
              "      fill: #1967D2;\n",
              "      height: 32px;\n",
              "      padding: 0 0 0 0;\n",
              "      width: 32px;\n",
              "    }\n",
              "\n",
              "    .colab-df-convert:hover {\n",
              "      background-color: #E2EBFA;\n",
              "      box-shadow: 0px 1px 2px rgba(60, 64, 67, 0.3), 0px 1px 3px 1px rgba(60, 64, 67, 0.15);\n",
              "      fill: #174EA6;\n",
              "    }\n",
              "\n",
              "    [theme=dark] .colab-df-convert {\n",
              "      background-color: #3B4455;\n",
              "      fill: #D2E3FC;\n",
              "    }\n",
              "\n",
              "    [theme=dark] .colab-df-convert:hover {\n",
              "      background-color: #434B5C;\n",
              "      box-shadow: 0px 1px 3px 1px rgba(0, 0, 0, 0.15);\n",
              "      filter: drop-shadow(0px 1px 2px rgba(0, 0, 0, 0.3));\n",
              "      fill: #FFFFFF;\n",
              "    }\n",
              "  </style>\n",
              "\n",
              "      <script>\n",
              "        const buttonEl =\n",
              "          document.querySelector('#df-38283fe9-6b49-4e9a-8cab-6b69d05c769a button.colab-df-convert');\n",
              "        buttonEl.style.display =\n",
              "          google.colab.kernel.accessAllowed ? 'block' : 'none';\n",
              "\n",
              "        async function convertToInteractive(key) {\n",
              "          const element = document.querySelector('#df-38283fe9-6b49-4e9a-8cab-6b69d05c769a');\n",
              "          const dataTable =\n",
              "            await google.colab.kernel.invokeFunction('convertToInteractive',\n",
              "                                                     [key], {});\n",
              "          if (!dataTable) return;\n",
              "\n",
              "          const docLinkHtml = 'Like what you see? Visit the ' +\n",
              "            '<a target=\"_blank\" href=https://colab.research.google.com/notebooks/data_table.ipynb>data table notebook</a>'\n",
              "            + ' to learn more about interactive tables.';\n",
              "          element.innerHTML = '';\n",
              "          dataTable['output_type'] = 'display_data';\n",
              "          await google.colab.output.renderOutput(dataTable, element);\n",
              "          const docLink = document.createElement('div');\n",
              "          docLink.innerHTML = docLinkHtml;\n",
              "          element.appendChild(docLink);\n",
              "        }\n",
              "      </script>\n",
              "    </div>\n",
              "  </div>\n",
              "  "
            ]
          },
          "metadata": {},
          "execution_count": 13
        }
      ]
    }
  ]
}