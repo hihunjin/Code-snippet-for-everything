{
  "nbformat": 4,
  "nbformat_minor": 0,
  "metadata": {
    "colab": {
      "provenance": [],
      "authorship_tag": "ABX9TyOoIqWyAHHsQkAUQeju/2aO",
      "include_colab_link": true
    },
    "kernelspec": {
      "name": "python3",
      "display_name": "Python 3"
    },
    "language_info": {
      "name": "python"
    }
  },
  "cells": [
    {
      "cell_type": "markdown",
      "metadata": {
        "id": "view-in-github",
        "colab_type": "text"
      },
      "source": [
        "<a href=\"https://colab.research.google.com/github/hihunjin/Code-snippet-for-everything/blob/main/cv2_resize.ipynb\" target=\"_parent\"><img src=\"https://colab.research.google.com/assets/colab-badge.svg\" alt=\"Open In Colab\"/></a>"
      ]
    },
    {
      "cell_type": "code",
      "execution_count": 1,
      "metadata": {
        "id": "bmc1c9U41qOq"
      },
      "outputs": [],
      "source": [
        "from typing import Sequence\n",
        "\n",
        "import cv2\n",
        "import numpy as np"
      ]
    },
    {
      "cell_type": "code",
      "source": [
        "cv2.resize()\n",
        "def cv2.resize(\n",
        "    src: np.ndarray(float32, shape=(H, W)),\n",
        "    dsize: Sequence(order=(W, H))\n",
        ") -> np.ndarray(float32, shape=(H, W))"
      ],
      "metadata": {
        "id": "bA9eTwXz1s_I"
      },
      "execution_count": null,
      "outputs": []
    },
    {
      "cell_type": "code",
      "source": [
        "a = np.random.rand(100, 200)\n",
        "print(type(a), a.shape)"
      ],
      "metadata": {
        "colab": {
          "base_uri": "https://localhost:8080/"
        },
        "id": "jo9WYzIT1wCc",
        "outputId": "e6b60cac-e141-4849-956c-9f131f758392"
      },
      "execution_count": 2,
      "outputs": [
        {
          "output_type": "stream",
          "name": "stdout",
          "text": [
            "<class 'numpy.ndarray'> (100, 200)\n"
          ]
        }
      ]
    },
    {
      "cell_type": "code",
      "source": [
        "out = cv2.resize(a, (300, 50))\n",
        "print(out.shape)"
      ],
      "metadata": {
        "colab": {
          "base_uri": "https://localhost:8080/"
        },
        "id": "LEjFuaIg1x7u",
        "outputId": "e0391075-80ef-46fa-8def-c06ad471a957"
      },
      "execution_count": 3,
      "outputs": [
        {
          "output_type": "stream",
          "name": "stdout",
          "text": [
            "(50, 300)\n"
          ]
        }
      ]
    }
  ]
}