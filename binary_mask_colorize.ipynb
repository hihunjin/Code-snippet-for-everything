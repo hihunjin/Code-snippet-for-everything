{
  "nbformat": 4,
  "nbformat_minor": 0,
  "metadata": {
    "colab": {
      "name": "binary_mask_colorize.ipynb",
      "provenance": [],
      "authorship_tag": "ABX9TyNP6QTabHInOkGgWpe0CSK3",
      "include_colab_link": true
    },
    "kernelspec": {
      "name": "python3",
      "display_name": "Python 3"
    },
    "language_info": {
      "name": "python"
    }
  },
  "cells": [
    {
      "cell_type": "markdown",
      "metadata": {
        "id": "view-in-github",
        "colab_type": "text"
      },
      "source": [
        "<a href=\"https://colab.research.google.com/github/hihunjin/Code-snippet-for-everything/blob/main/binary_mask_colorize.ipynb\" target=\"_parent\"><img src=\"https://colab.research.google.com/assets/colab-badge.svg\" alt=\"Open In Colab\"/></a>"
      ]
    },
    {
      "cell_type": "code",
      "metadata": {
        "colab": {
          "base_uri": "https://localhost:8080/",
          "height": 521
        },
        "id": "nArl1h2WqawY",
        "outputId": "ded5cc53-87ed-40a4-c324-8126d40979b3"
      },
      "source": [
        "import numpy as np\n",
        "import matplotlib\n",
        "from matplotlib import pyplot as plt\n",
        "\n",
        "###### create mask      ######\n",
        "mask = np.random.randint(0,1,(300,300))\n",
        "mask[20:80,60:120]=1\n",
        "plt.imshow(mask, cmap ='gray')\n",
        "plt.show()\n",
        "\n",
        "\n",
        "###### colorize         ######\n",
        "cmap = matplotlib.colors.ListedColormap(['black', 'blue'])\n",
        "mask_out = cmap(mask)\n",
        "\n",
        "\n",
        "###### plot             ######\n",
        "plt.imshow(mask_out)\n",
        "plt.show()"
      ],
      "execution_count": null,
      "outputs": [
        {
          "output_type": "display_data",
          "data": {
            "image/png": "[encoded data removed]",
            "text/plain": [
              "<Figure size 432x288 with 1 Axes>"
            ]
          },
          "metadata": {
            "tags": [],
            "needs_background": "light"
          }
        },
        {
          "output_type": "display_data",
          "data": {
            "image/png": "[encoded data removed]",
            "text/plain": [
              "<Figure size 432x288 with 1 Axes>"
            ]
          },
          "metadata": {
            "tags": [],
            "needs_background": "light"
          }
        }
      ]
    }
  ]
}