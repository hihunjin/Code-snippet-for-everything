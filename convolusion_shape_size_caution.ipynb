{
  "nbformat": 4,
  "nbformat_minor": 0,
  "metadata": {
    "colab": {
      "name": "convolusion_shape_size_caution.ipynb",
      "provenance": [],
      "authorship_tag": "ABX9TyM1x9ce/bkLDojeWLNjgSGp",
      "include_colab_link": true
    },
    "kernelspec": {
      "name": "python3",
      "display_name": "Python 3"
    },
    "language_info": {
      "name": "python"
    }
  },
  "cells": [
    {
      "cell_type": "markdown",
      "metadata": {
        "id": "view-in-github",
        "colab_type": "text"
      },
      "source": [
        "<a href=\"https://colab.research.google.com/github/hihunjin/Code-snippet-for-everything/blob/main/convolusion_shape_size_caution.ipynb\" target=\"_parent\"><img src=\"https://colab.research.google.com/assets/colab-badge.svg\" alt=\"Open In Colab\"/></a>"
      ]
    },
    {
      "cell_type": "code",
      "execution_count": 1,
      "metadata": {
        "id": "8qTolc4KXhUy"
      },
      "outputs": [],
      "source": [
        "import torch"
      ]
    },
    {
      "cell_type": "code",
      "source": [
        "conv = torch.nn.Conv2d(\n",
        "    in_channels=1, out_channels=1,\n",
        "    kernel_size=3, stride=2, padding=1\n",
        ")"
      ],
      "metadata": {
        "id": "r_1znzpUXiEc"
      },
      "execution_count": 2,
      "outputs": []
    },
    {
      "cell_type": "code",
      "source": [
        "w_h = 11\n",
        "inp = torch.rand((1, 1, w_h, w_h))\n",
        "print(conv(inp).shape)"
      ],
      "metadata": {
        "colab": {
          "base_uri": "https://localhost:8080/"
        },
        "id": "Xby9ftpsXiuG",
        "outputId": "ef2f54e6-9ed4-4b0c-be23-6b9894494cd1"
      },
      "execution_count": 6,
      "outputs": [
        {
          "output_type": "stream",
          "name": "stdout",
          "text": [
            "torch.Size([1, 1, 6, 6])\n"
          ]
        }
      ]
    },
    {
      "cell_type": "code",
      "source": [
        "w_h = 12\n",
        "inp = torch.rand((1, 1, w_h, w_h))\n",
        "print(conv(inp).shape)"
      ],
      "metadata": {
        "colab": {
          "base_uri": "https://localhost:8080/"
        },
        "id": "pe6G5p67Xjfo",
        "outputId": "0c63bc0d-6265-42f4-8cfb-7b8c969ab852"
      },
      "execution_count": 7,
      "outputs": [
        {
          "output_type": "stream",
          "name": "stdout",
          "text": [
            "torch.Size([1, 1, 6, 6])\n"
          ]
        }
      ]
    }
  ]
}