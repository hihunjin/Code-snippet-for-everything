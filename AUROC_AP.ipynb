{
  "nbformat": 4,
  "nbformat_minor": 0,
  "metadata": {
    "colab": {
      "name": "AUROC_AP.ipynb",
      "provenance": [],
      "authorship_tag": "ABX9TyMJyXL88aUkRjL5rZlQnXuf",
      "include_colab_link": true
    },
    "kernelspec": {
      "name": "python3",
      "display_name": "Python 3"
    },
    "language_info": {
      "name": "python"
    }
  },
  "cells": [
    {
      "cell_type": "markdown",
      "metadata": {
        "id": "view-in-github",
        "colab_type": "text"
      },
      "source": [
        "<a href=\"https://colab.research.google.com/github/hihunjin/Code-snippet-for-everything/blob/main/AUROC_AP.ipynb\" target=\"_parent\"><img src=\"https://colab.research.google.com/assets/colab-badge.svg\" alt=\"Open In Colab\"/></a>"
      ]
    },
    {
      "cell_type": "code",
      "execution_count": 1,
      "metadata": {
        "id": "DbHLAb1ulKcW"
      },
      "outputs": [],
      "source": [
        "import numpy as np\n",
        "from sklearn.metrics import roc_auc_score, precision_recall_curve, auc"
      ]
    },
    {
      "cell_type": "code",
      "source": [
        "gt_lbl = [0, 0, 0, 0, 0, 0, 0, 0, 0, 0, 0, 0, 0, 0, 0, 0, 0, 0, 0, 0, 0, 0, 1, 1, 1, 1, 1, 1, 1, 1, 1, 1, 1, 1, 1, 1, 1, 1, 1, 1, 1, 1, 1, 1]\n",
        "pred_score = [2.4648683071136475, 2.419874429702759, 2.3913893699646, 2.4012436866760254, 2.476001739501953, 2.468911647796631, 2.427879810333252, 2.395730495452881, 2.418748140335083, 2.428895235061645, 2.4863269329071045, 2.437530517578125, 2.527160882949829, 2.401740789413452, 2.5403740406036377, 2.3934097290039062, 2.442580223083496, 2.4327168464660645, 2.389073610305786, 2.438598155975342, 2.3955414295196533, 2.3974196910858154, 2.5895836353302, 2.811764478683472, 2.5090420246124268, 2.7237982749938965, 2.566274642944336, 2.7194948196411133, 2.448831796646118, 2.871567726135254, 2.651324987411499, 2.6799092292785645, 2.6460988521575928, 2.5847690105438232, 2.664759397506714, 2.644099712371826, 2.793828010559082, 2.8087708950042725, 2.7041454315185547, 2.9756758213043213, 2.3887267112731934, 2.755281686782837, 2.4081599712371826, 2.5404982566833496]"
      ],
      "metadata": {
        "id": "bdfS0OeXlK00"
      },
      "execution_count": 2,
      "outputs": []
    },
    {
      "cell_type": "code",
      "source": [
        "AUROC = roc_auc_score(gt_lbl, pred_score)\n",
        "print(AUROC)"
      ],
      "metadata": {
        "colab": {
          "base_uri": "https://localhost:8080/"
        },
        "id": "qnAwinhTlLob",
        "outputId": "616e7d26-441d-48a7-feb1-89a763f543c8"
      },
      "execution_count": 3,
      "outputs": [
        {
          "output_type": "stream",
          "name": "stdout",
          "text": [
            "0.9090909090909092\n"
          ]
        }
      ]
    },
    {
      "cell_type": "code",
      "source": [
        "precision, recall, thresholds = precision_recall_curve(gt_lbl, pred_score)\n",
        "print('precision\\n', precision)\n",
        "print('recall\\n', recall)\n",
        "print('thresholds\\n', thresholds)"
      ],
      "metadata": {
        "colab": {
          "base_uri": "https://localhost:8080/"
        },
        "id": "OYCNRomflMdS",
        "outputId": "d12f3632-f28d-4220-e25d-42f9ca6fd7db"
      },
      "execution_count": 4,
      "outputs": [
        {
          "output_type": "stream",
          "name": "stdout",
          "text": [
            "precision\n",
            " [0.5        0.48837209 0.5        0.51219512 0.525      0.53846154\n",
            " 0.55263158 0.56756757 0.58333333 0.6        0.58823529 0.60606061\n",
            " 0.625      0.64516129 0.66666667 0.68965517 0.71428571 0.74074074\n",
            " 0.76923077 0.76       0.79166667 0.82608696 0.86363636 0.9047619\n",
            " 0.9        0.94736842 1.         1.         1.         1.\n",
            " 1.         1.         1.         1.         1.         1.\n",
            " 1.         1.         1.         1.         1.         1.\n",
            " 1.         1.         1.        ]\n",
            "recall\n",
            " [1.         0.95454545 0.95454545 0.95454545 0.95454545 0.95454545\n",
            " 0.95454545 0.95454545 0.95454545 0.95454545 0.90909091 0.90909091\n",
            " 0.90909091 0.90909091 0.90909091 0.90909091 0.90909091 0.90909091\n",
            " 0.90909091 0.86363636 0.86363636 0.86363636 0.86363636 0.86363636\n",
            " 0.81818182 0.81818182 0.81818182 0.77272727 0.72727273 0.68181818\n",
            " 0.63636364 0.59090909 0.54545455 0.5        0.45454545 0.40909091\n",
            " 0.36363636 0.31818182 0.27272727 0.22727273 0.18181818 0.13636364\n",
            " 0.09090909 0.04545455 0.        ]\n",
            "thresholds\n",
            " [2.38872671 2.38907361 2.39138937 2.39340973 2.39554143 2.3957305\n",
            " 2.39741969 2.40124369 2.40174079 2.40815997 2.41874814 2.41987443\n",
            " 2.42787981 2.42889524 2.43271685 2.43753052 2.43859816 2.44258022\n",
            " 2.4488318  2.46486831 2.46891165 2.47600174 2.48632693 2.50904202\n",
            " 2.52716088 2.54037404 2.54049826 2.56627464 2.58476901 2.58958364\n",
            " 2.64409971 2.64609885 2.65132499 2.6647594  2.67990923 2.70414543\n",
            " 2.71949482 2.72379827 2.75528169 2.79382801 2.8087709  2.81176448\n",
            " 2.87156773 2.97567582]\n"
          ]
        }
      ]
    },
    {
      "cell_type": "code",
      "source": [
        "AUPR = auc(recall, precision) # AP\n",
        "print(AUPR)"
      ],
      "metadata": {
        "colab": {
          "base_uri": "https://localhost:8080/"
        },
        "id": "bfYZz0XVlNCg",
        "outputId": "1ae2b37b-339b-4926-f596-ba092d495cf0"
      },
      "execution_count": 5,
      "outputs": [
        {
          "output_type": "stream",
          "name": "stdout",
          "text": [
            "0.9434227286621266\n"
          ]
        }
      ]
    },
    {
      "cell_type": "code",
      "source": [
        "f1_scores = 2 * recall * precision / (recall + precision)\n",
        "f1_scores[np.isnan(f1_scores)] = 0.0"
      ],
      "metadata": {
        "id": "KkE2yGynlN-w"
      },
      "execution_count": 6,
      "outputs": []
    },
    {
      "cell_type": "code",
      "source": [
        "Best_threshold = thresholds[np.argmax(f1_scores)]\n",
        "Best_F1_score = np.max(f1_scores)\n",
        "print('Best_threshold\\n', Best_threshold)\n",
        "print('Best_F1_score\\n', Best_F1_score)"
      ],
      "metadata": {
        "colab": {
          "base_uri": "https://localhost:8080/"
        },
        "id": "h7v4w_oSlOtB",
        "outputId": "370a4f8e-dd91-45b8-9c08-32252332b795"
      },
      "execution_count": 7,
      "outputs": [
        {
          "output_type": "stream",
          "name": "stdout",
          "text": [
            "Best_threshold\n",
            " 2.5404982566833496\n",
            "Best_F1_score\n",
            " 0.9\n"
          ]
        }
      ]
    }
  ]
}