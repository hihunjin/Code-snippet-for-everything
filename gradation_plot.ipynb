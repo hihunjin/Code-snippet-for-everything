{
  "nbformat": 4,
  "nbformat_minor": 0,
  "metadata": {
    "colab": {
      "name": "gradation_plot.ipynb",
      "provenance": [],
      "authorship_tag": "ABX9TyPsvyiXRhLtxnVY7fcbp622",
      "include_colab_link": true
    },
    "kernelspec": {
      "name": "python3",
      "display_name": "Python 3"
    },
    "language_info": {
      "name": "python"
    }
  },
  "cells": [
    {
      "cell_type": "markdown",
      "metadata": {
        "id": "view-in-github",
        "colab_type": "text"
      },
      "source": [
        "<a href=\"https://colab.research.google.com/github/hihunjin/Code-snippet-for-everything/blob/main/gradation_plot.ipynb\" target=\"_parent\"><img src=\"https://colab.research.google.com/assets/colab-badge.svg\" alt=\"Open In Colab\"/></a>"
      ]
    },
    {
      "cell_type": "code",
      "metadata": {
        "colab": {
          "base_uri": "https://localhost:8080/",
          "height": 395
        },
        "id": "qx5zq0I0ArUT",
        "outputId": "b8d80912-ae3c-4bba-9c96-a2ff76c535c2"
      },
      "source": [
        "import matplotlib.pyplot as plt\n",
        "import seaborn as sns\n",
        "import numpy as np\n",
        "fig, ax = plt.subplots(figsize=(6, 6))\n",
        "\n",
        "names = ['A', 'B', 'C', 'D', 'E']\n",
        "values = [-1, -0.5, 0, 0.5, 1]\n",
        "n = len(names)\n",
        "gradient = np.linspace(0, 1, 100).reshape(1, -1)\n",
        "plt.imshow(gradient , extent=[-1, 1, -1, 1], aspect='auto', cmap='RdYlGn_r')        # extent=[xmin,xmax,ymin,ymax]\n",
        "plt.plot([0.2],[0.7],'.',markersize=12)\n",
        "ax.annotate('your voice', (0.2, 0.7))\n",
        "\n",
        "ax.annotate('spring', (1,1.02),annotation_clip=False)\n",
        "ax.annotate('summer', (1,-1.05),annotation_clip=False)\n",
        "ax.annotate('autumn', (-1.1,-1.05),annotation_clip=False)\n",
        "ax.annotate('winter', (-1.1,1.02),annotation_clip=False)\n",
        "plt.axis('off')\n",
        "\n",
        "# sns.stripplot(x=values, y=names, color='b', size=12, edgecolor='b')\n",
        "# plt.hlines(np.arange(0, n), -1, 1, linestyles='--', linewidth=1)\n",
        "# plt.grid(False)\n",
        "# plt.xlim(-1, 1)\n",
        "# plt.xticks([0, 1, 2, 3])\n"
      ],
      "execution_count": 1,
      "outputs": [
        {
          "output_type": "execute_result",
          "data": {
            "text/plain": [
              "(-1.0, 1.0, -1.0, 1.0)"
            ]
          },
          "metadata": {},
          "execution_count": 1
        },
        {
          "output_type": "display_data",
          "data": {
            "image/png": "[encoded data removed]",
            "text/plain": [
              "<Figure size 432x432 with 1 Axes>"
            ]
          },
          "metadata": {
            "needs_background": "light"
          }
        }
      ]
    }
  ]
}