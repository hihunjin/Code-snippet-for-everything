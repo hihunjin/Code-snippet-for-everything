{
  "nbformat": 4,
  "nbformat_minor": 0,
  "metadata": {
    "colab": {
      "name": "html_append.ipynb",
      "provenance": [],
      "authorship_tag": "ABX9TyOYS1cVpKiex1L6g6Yim27P",
      "include_colab_link": true
    },
    "kernelspec": {
      "name": "python3",
      "display_name": "Python 3"
    },
    "language_info": {
      "name": "python"
    }
  },
  "cells": [
    {
      "cell_type": "markdown",
      "metadata": {
        "id": "view-in-github",
        "colab_type": "text"
      },
      "source": [
        "<a href=\"https://colab.research.google.com/github/hihunjin/Code-snippet-for-everything/blob/main/html_append.ipynb\" target=\"_parent\"><img src=\"https://colab.research.google.com/assets/colab-badge.svg\" alt=\"Open In Colab\"/></a>"
      ]
    },
    {
      "cell_type": "code",
      "metadata": {
        "id": "2ozAGhK-v09d"
      },
      "source": [
        "text = \"\"\"<table border=\"0\">\n",
        " <tr>\n",
        "    <td><b style=\"font-size:30px\">Title</b></td>\n",
        "    <td><b style=\"font-size:30px\">Title 2</b></td>\n",
        " </tr>\n",
        " <tr>\n",
        "    <td>Lorem ipsum ...</td>\n",
        "    <td>Lorem ipsum ...</td>\n",
        " </tr>\n",
        "</table>\n",
        "\"\"\""
      ],
      "execution_count": 1,
      "outputs": []
    },
    {
      "cell_type": "code",
      "metadata": {
        "colab": {
          "base_uri": "https://localhost:8080/",
          "height": 79
        },
        "id": "FbnEVJ9Dv3Ze",
        "outputId": "6a93aa82-203d-46cc-e596-f5c08ba932de"
      },
      "source": [
        "from IPython.core.display import HTML\n",
        "HTML(text)"
      ],
      "execution_count": 2,
      "outputs": [
        {
          "output_type": "execute_result",
          "data": {
            "text/html": [
              "<table border=\"0\">\n",
              " <tr>\n",
              "    <td><b style=\"font-size:30px\">Title</b></td>\n",
              "    <td><b style=\"font-size:30px\">Title 2</b></td>\n",
              " </tr>\n",
              " <tr>\n",
              "    <td>Lorem ipsum ...</td>\n",
              "    <td>Lorem ipsum ...</td>\n",
              " </tr>\n",
              "</table>\n"
            ],
            "text/plain": [
              "<IPython.core.display.HTML object>"
            ]
          },
          "metadata": {},
          "execution_count": 2
        }
      ]
    },
    {
      "cell_type": "code",
      "metadata": {
        "id": "gKAhOg5vw68d"
      },
      "source": [
        "text2 = \"# hi \\n * this is hi\""
      ],
      "execution_count": 3,
      "outputs": []
    },
    {
      "cell_type": "code",
      "metadata": {
        "id": "IQ5Ngj8UyLCX"
      },
      "source": [
        "import markdown\n",
        "html2 = markdown.markdown(text2)"
      ],
      "execution_count": 4,
      "outputs": []
    },
    {
      "cell_type": "code",
      "metadata": {
        "colab": {
          "base_uri": "https://localhost:8080/",
          "height": 99
        },
        "id": "PscshBzmyFIo",
        "outputId": "770c9901-99b9-487d-d5dc-fe2cb7d19034"
      },
      "source": [
        "HTML(html2)"
      ],
      "execution_count": 5,
      "outputs": [
        {
          "output_type": "execute_result",
          "data": {
            "text/html": [
              "<h1>hi</h1>\n",
              "<ul>\n",
              "<li>this is hi</li>\n",
              "</ul>"
            ],
            "text/plain": [
              "<IPython.core.display.HTML object>"
            ]
          },
          "metadata": {},
          "execution_count": 5
        }
      ]
    },
    {
      "cell_type": "markdown",
      "metadata": {
        "id": "3Jpdon83yp9_"
      },
      "source": [
        "## html pretty print"
      ]
    },
    {
      "cell_type": "code",
      "metadata": {
        "colab": {
          "base_uri": "https://localhost:8080/"
        },
        "id": "O8EQ0LflyeG-",
        "outputId": "728cabb4-61db-4aa3-9461-1eccd9a1e242"
      },
      "source": [
        "from bs4 import BeautifulSoup\n",
        "print(BeautifulSoup(html2, 'html.parser').prettify())"
      ],
      "execution_count": 6,
      "outputs": [
        {
          "output_type": "stream",
          "name": "stdout",
          "text": [
            "<h1>\n",
            " hi\n",
            "</h1>\n",
            "<ul>\n",
            " <li>\n",
            "  this is hi\n",
            " </li>\n",
            "</ul>\n"
          ]
        }
      ]
    },
    {
      "cell_type": "markdown",
      "metadata": {
        "id": "9G2vsCL6yOH9"
      },
      "source": [
        "# Append"
      ]
    },
    {
      "cell_type": "code",
      "metadata": {
        "colab": {
          "base_uri": "https://localhost:8080/",
          "height": 162
        },
        "id": "YIPPl0k6x7ei",
        "outputId": "dd434e7a-1e66-46e4-ba86-d11e3dc61b8f"
      },
      "source": [
        "from IPython.core.display import HTML\n",
        "tt = text + html2\n",
        "HTML(tt)"
      ],
      "execution_count": 7,
      "outputs": [
        {
          "output_type": "execute_result",
          "data": {
            "text/html": [
              "<table border=\"0\">\n",
              " <tr>\n",
              "    <td><b style=\"font-size:30px\">Title</b></td>\n",
              "    <td><b style=\"font-size:30px\">Title 2</b></td>\n",
              " </tr>\n",
              " <tr>\n",
              "    <td>Lorem ipsum ...</td>\n",
              "    <td>Lorem ipsum ...</td>\n",
              " </tr>\n",
              "</table>\n",
              "<h1>hi</h1>\n",
              "<ul>\n",
              "<li>this is hi</li>\n",
              "</ul>"
            ],
            "text/plain": [
              "<IPython.core.display.HTML object>"
            ]
          },
          "metadata": {},
          "execution_count": 7
        }
      ]
    }
  ]
}