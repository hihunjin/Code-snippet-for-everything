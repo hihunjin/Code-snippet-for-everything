{
  "nbformat": 4,
  "nbformat_minor": 0,
  "metadata": {
    "colab": {
      "name": "pitch_detection_f0.ipynb",
      "provenance": [],
      "collapsed_sections": [],
      "authorship_tag": "ABX9TyNPWrZVlmsWbLDx7HoM0dxk",
      "include_colab_link": true
    },
    "kernelspec": {
      "name": "python3",
      "display_name": "Python 3"
    },
    "language_info": {
      "name": "python"
    }
  },
  "cells": [
    {
      "cell_type": "markdown",
      "metadata": {
        "id": "view-in-github",
        "colab_type": "text"
      },
      "source": [
        "<a href=\"https://colab.research.google.com/github/hihunjin/Code-snippet-for-everything/blob/main/audio/pitch_detection_f0.ipynb\" target=\"_parent\"><img src=\"https://colab.research.google.com/assets/colab-badge.svg\" alt=\"Open In Colab\"/></a>"
      ]
    },
    {
      "cell_type": "markdown",
      "source": [
        "# pitch detection with f0(=fundamental frequency)\n",
        "\n",
        "* 참조 : https://librosa.org/doc/main/generated/librosa.pyin.html"
      ],
      "metadata": {
        "id": "oP4k1OjhevXM"
      }
    },
    {
      "cell_type": "code",
      "execution_count": 1,
      "metadata": {
        "id": "fdQfg_egeFgW"
      },
      "outputs": [],
      "source": [
        "%%capture\n",
        "!wget https://file-examples-com.github.io/uploads/2017/11/file_example_WAV_1MG.wav -O ex.wav"
      ]
    },
    {
      "cell_type": "code",
      "source": [
        "from  IPython.display import Audio\n",
        "import matplotlib.pyplot as plt\n",
        "\n",
        "import librosa"
      ],
      "metadata": {
        "id": "RF1cCDy6eGEh"
      },
      "execution_count": 6,
      "outputs": []
    },
    {
      "cell_type": "code",
      "source": [
        "y, sr = librosa.load(librosa.ex('trumpet'))\n",
        "print('sr', sr)\n",
        "print('y.shape', y.shape)\n",
        "print('duration', y.shape[-1]/sr)\n",
        "pitches, magnitudes = librosa.piptrack(y=y, sr=sr)\n",
        "print(pitches.shape, magnitudes.shape)"
      ],
      "metadata": {
        "colab": {
          "base_uri": "https://localhost:8080/"
        },
        "id": "8zmAM9uieLOA",
        "outputId": "8294fd3d-ad73-4238-917f-79f160c18d54"
      },
      "execution_count": 7,
      "outputs": [
        {
          "output_type": "stream",
          "name": "stdout",
          "text": [
            "sr 22050\n",
            "y.shape (117601,)\n",
            "duration 5.333378684807256\n",
            "(1025, 230) (1025, 230)\n"
          ]
        }
      ]
    },
    {
      "cell_type": "code",
      "source": [
        "f0, voiced_flag, voiced_probs = librosa.pyin(y, fmin=librosa.note_to_hz('B2'), fmax=librosa.note_to_hz('E7'))"
      ],
      "metadata": {
        "id": "LO6AoD1reSGB"
      },
      "execution_count": 8,
      "outputs": []
    },
    {
      "cell_type": "code",
      "source": [
        "print(f0.shape)\n",
        "plt.plot(f0)"
      ],
      "metadata": {
        "colab": {
          "base_uri": "https://localhost:8080/",
          "height": 300
        },
        "id": "UbKsFmHVeUUG",
        "outputId": "91c1ae3d-fdfe-4eab-f1f3-b013ef441f9d"
      },
      "execution_count": 9,
      "outputs": [
        {
          "output_type": "stream",
          "name": "stdout",
          "text": [
            "(230,)\n"
          ]
        },
        {
          "output_type": "execute_result",
          "data": {
            "text/plain": [
              "[<matplotlib.lines.Line2D at 0x7f654d0a1cd0>]"
            ]
          },
          "metadata": {},
          "execution_count": 9
        },
        {
          "output_type": "display_data",
          "data": {
            "image/png": "[encoded data removed]",
            "text/plain": [
              "<Figure size 432x288 with 1 Axes>"
            ]
          },
          "metadata": {
            "needs_background": "light"
          }
        }
      ]
    }
  ]
}